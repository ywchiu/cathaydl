{
  "nbformat": 4,
  "nbformat_minor": 0,
  "metadata": {
    "colab": {
      "provenance": []
    },
    "kernelspec": {
      "name": "python3",
      "display_name": "Python 3"
    },
    "language_info": {
      "name": "python"
    }
  },
  "cells": [
    {
      "cell_type": "markdown",
      "source": [
        "## 載入相關套件"
      ],
      "metadata": {
        "id": "6YkfXZEUVCKu"
      }
    },
    {
      "cell_type": "code",
      "execution_count": 31,
      "metadata": {
        "id": "M69g94dxUlbu"
      },
      "outputs": [],
      "source": [
        "import torch\n",
        "import torch.nn as nn\n",
        "import torch.optim as optim\n",
        "import torchvision\n",
        "import torchvision.transforms as transforms\n",
        "import matplotlib.pyplot as plt\n",
        "\n",
        "# 定義超參數\n",
        "batch_size = 64\n",
        "learning_rate = 0.001\n",
        "num_epochs = 10"
      ]
    },
    {
      "cell_type": "markdown",
      "source": [
        "## 下載並準備 MNIST 數據集"
      ],
      "metadata": {
        "id": "MHjY0FxaVaGS"
      }
    },
    {
      "cell_type": "code",
      "source": [
        "transform = transforms.Compose([transforms.ToTensor(), transforms.Normalize((0.5,), (0.5,))])\n",
        "\n",
        "train_dataset = torchvision.datasets.MNIST(root='./data', train=True, transform=transform, download=True)\n",
        "train_loader = torch.utils.data.DataLoader(dataset=train_dataset, batch_size=batch_size, shuffle=True)\n",
        "\n",
        "test_dataset = torchvision.datasets.MNIST(root='./data', train=False, transform=transform)\n",
        "test_loader = torch.utils.data.DataLoader(dataset=test_dataset, batch_size=batch_size, shuffle=False)\n"
      ],
      "metadata": {
        "id": "4R_bcU5AVcPs"
      },
      "execution_count": 32,
      "outputs": []
    },
    {
      "cell_type": "markdown",
      "source": [
        "## 定義 CNN 架構"
      ],
      "metadata": {
        "id": "MbqE2JNMVf_B"
      }
    },
    {
      "cell_type": "code",
      "source": [
        "class CNN(nn.Module):\n",
        "    def __init__(self):\n",
        "        super(CNN, self).__init__()\n",
        "        self.conv1 = nn.Conv2d(in_channels=1, out_channels=16, kernel_size=3, padding=1)\n",
        "        self.relu = nn.ReLU()\n",
        "        self.maxpool = nn.MaxPool2d(kernel_size=2)\n",
        "        self.conv2 = nn.Conv2d(in_channels=16, out_channels=32, kernel_size=3, padding=1)\n",
        "        self.fc1 = nn.Linear(in_features=32*7*7, out_features=128)\n",
        "        self.fc2 = nn.Linear(in_features=128, out_features=10)\n",
        "\n",
        "    def forward(self, x):\n",
        "        x = self.conv1(x)\n",
        "        x = self.relu(x)\n",
        "        x = self.maxpool(x)\n",
        "        x = self.conv2(x)\n",
        "        x = self.relu(x)\n",
        "        x = self.maxpool(x)\n",
        "        x = x.view(x.size(0), -1)\n",
        "        x = self.fc1(x)\n",
        "        x = self.relu(x)\n",
        "        x = self.fc2(x)\n",
        "        return x\n",
        "\n",
        "model = CNN()\n",
        "model"
      ],
      "metadata": {
        "colab": {
          "base_uri": "https://localhost:8080/"
        },
        "id": "IgQSo0maVeI_",
        "outputId": "90ef6850-45c6-456f-ed72-a8c0930b818a"
      },
      "execution_count": 33,
      "outputs": [
        {
          "output_type": "execute_result",
          "data": {
            "text/plain": [
              "CNN(\n",
              "  (conv1): Conv2d(1, 16, kernel_size=(3, 3), stride=(1, 1), padding=(1, 1))\n",
              "  (relu): ReLU()\n",
              "  (maxpool): MaxPool2d(kernel_size=2, stride=2, padding=0, dilation=1, ceil_mode=False)\n",
              "  (conv2): Conv2d(16, 32, kernel_size=(3, 3), stride=(1, 1), padding=(1, 1))\n",
              "  (fc1): Linear(in_features=1568, out_features=128, bias=True)\n",
              "  (fc2): Linear(in_features=128, out_features=10, bias=True)\n",
              ")"
            ]
          },
          "metadata": {},
          "execution_count": 33
        }
      ]
    },
    {
      "cell_type": "markdown",
      "source": [
        "## 損失函數和優化器"
      ],
      "metadata": {
        "id": "mWhto1exV9jU"
      }
    },
    {
      "cell_type": "code",
      "source": [
        "criterion = nn.CrossEntropyLoss()\n",
        "optimizer = optim.Adam(model.parameters(), lr=learning_rate)"
      ],
      "metadata": {
        "id": "2XxsACv8V2n5"
      },
      "execution_count": 34,
      "outputs": []
    },
    {
      "cell_type": "markdown",
      "source": [
        "## 訓練模型"
      ],
      "metadata": {
        "id": "1ciKfT__WEBl"
      }
    },
    {
      "cell_type": "code",
      "source": [
        "# 訓練和評估，同時繪製Loss和Accuracy變化趨勢\n",
        "loss_history = []\n",
        "accuracy_history = []\n",
        "\n",
        "for epoch in range(num_epochs):\n",
        "    model.train()\n",
        "    total_loss = 0\n",
        "    correct = 0\n",
        "    total = 0\n",
        "\n",
        "    for images, labels in train_loader:\n",
        "        optimizer.zero_grad()\n",
        "        outputs = model(images)\n",
        "        loss = criterion(outputs, labels)\n",
        "        loss.backward()\n",
        "        optimizer.step()\n",
        "\n",
        "        total_loss += loss.item()\n",
        "        _, predicted = torch.max(outputs.data, 1)\n",
        "        total += labels.size(0)\n",
        "        correct += (predicted == labels).sum().item()\n",
        "\n",
        "    accuracy = correct / total\n",
        "    loss_history.append(total_loss / len(train_loader))\n",
        "    accuracy_history.append(accuracy)\n",
        "\n",
        "    print(f'Epoch [{epoch+1}/{num_epochs}] - Loss: {loss_history[-1]:.4f}, Accuracy: {accuracy:.4f}')\n"
      ],
      "metadata": {
        "colab": {
          "base_uri": "https://localhost:8080/"
        },
        "id": "MYBH6sqoWAER",
        "outputId": "309d1c7a-c91d-4add-d02c-1eb19dc800ad"
      },
      "execution_count": 35,
      "outputs": [
        {
          "output_type": "stream",
          "name": "stdout",
          "text": [
            "Epoch [1/10] - Loss: 0.1917, Accuracy: 0.9432\n",
            "Epoch [2/10] - Loss: 0.0536, Accuracy: 0.9840\n",
            "Epoch [3/10] - Loss: 0.0380, Accuracy: 0.9884\n",
            "Epoch [4/10] - Loss: 0.0283, Accuracy: 0.9911\n",
            "Epoch [5/10] - Loss: 0.0219, Accuracy: 0.9930\n",
            "Epoch [6/10] - Loss: 0.0182, Accuracy: 0.9942\n",
            "Epoch [7/10] - Loss: 0.0136, Accuracy: 0.9955\n",
            "Epoch [8/10] - Loss: 0.0118, Accuracy: 0.9961\n",
            "Epoch [9/10] - Loss: 0.0096, Accuracy: 0.9969\n",
            "Epoch [10/10] - Loss: 0.0073, Accuracy: 0.9975\n"
          ]
        }
      ]
    },
    {
      "cell_type": "markdown",
      "source": [
        "## 繪製 loss 與 Accuracy 變化圖"
      ],
      "metadata": {
        "id": "ZeJHkcx3WY_8"
      }
    },
    {
      "cell_type": "code",
      "source": [
        "\n",
        "plt.figure(figsize=(12, 6))\n",
        "\n",
        "plt.subplot(1, 2, 1)\n",
        "plt.plot(loss_history)\n",
        "plt.title('Loss')\n",
        "plt.xlabel('Epoch')\n",
        "plt.ylabel('Value')\n",
        "\n",
        "plt.subplot(1, 2, 2)\n",
        "plt.plot(accuracy_history)\n",
        "plt.title('Accuracy')\n",
        "plt.xlabel('Epoch')\n",
        "plt.ylabel('Value')\n",
        "\n",
        "plt.tight_layout()\n",
        "plt.show()"
      ],
      "metadata": {
        "colab": {
          "base_uri": "https://localhost:8080/",
          "height": 607
        },
        "id": "t2hFU7h8WWQn",
        "outputId": "c29cea17-33a4-43eb-e385-4261e77f089a"
      },
      "execution_count": 36,
      "outputs": [
        {
          "output_type": "display_data",
          "data": {
            "text/plain": [
              "<Figure size 1200x600 with 2 Axes>"
            ],
            "image/png": "[encoded data removed]"
          },
          "metadata": {}
        }
      ]
    },
    {
      "cell_type": "markdown",
      "source": [
        "## 評估測試資料集"
      ],
      "metadata": {
        "id": "L73jsdD0ilz2"
      }
    },
    {
      "cell_type": "code",
      "source": [
        "model.eval()\n",
        "with torch.no_grad():\n",
        "    correct = 0\n",
        "    total = 0\n",
        "    for images, labels in test_loader:\n",
        "        images = images\n",
        "        labels = labels\n",
        "        outputs = model(images)\n",
        "        _, predicted = torch.max(outputs.data, 1)\n",
        "        total += labels.size(0)\n",
        "        correct += (predicted == labels).sum().item()\n",
        "\n",
        "    print(f'測試準確率：{100 * correct / total:.2f}%')\n"
      ],
      "metadata": {
        "colab": {
          "base_uri": "https://localhost:8080/"
        },
        "id": "qyKWJpWLilGo",
        "outputId": "e4711476-21a0-444a-b7fa-9b9248390735"
      },
      "execution_count": 37,
      "outputs": [
        {
          "output_type": "stream",
          "name": "stdout",
          "text": [
            "測試準確率：98.79%\n"
          ]
        }
      ]
    },
    {
      "cell_type": "markdown",
      "source": [
        "## 保存訓練好的模型"
      ],
      "metadata": {
        "id": "2FFkip4mWR6u"
      }
    },
    {
      "cell_type": "code",
      "source": [
        "# 保存訓練好的模型\n",
        "torch.save(model.state_dict(), 'mnist_cnn_model.pth')"
      ],
      "metadata": {
        "id": "VJoJQ5MiWIOY"
      },
      "execution_count": 38,
      "outputs": []
    }
  ]
}