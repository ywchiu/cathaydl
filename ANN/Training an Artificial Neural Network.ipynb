{
 "cells": [
  {
   "cell_type": "markdown",
   "metadata": {},
   "source": [
    "## 准备好建立网络所需"
   ]
  },
  {
   "cell_type": "code",
   "execution_count": 1,
   "metadata": {},
   "outputs": [],
   "source": [
    "import numpy as np"
   ]
  },
  {
   "cell_type": "code",
   "execution_count": 2,
   "metadata": {},
   "outputs": [],
   "source": [
    "def softmax_function(x):\n",
    "    return np.exp(x) / np.sum(np.exp(x))\n",
    "\n",
    "def sigmoid_function(x):\n",
    "    return 1/ (1 + np.exp(-x))\n",
    "\n",
    "def dfunc(f, x):\n",
    "    h = 1e-4 \n",
    "    grad = np.zeros_like(x)\n",
    "    it = np.nditer(x, flags=['multi_index'])\n",
    "    while not it.finished:     \n",
    "        idx = it.multi_index\n",
    "        tmp_val = x[idx]\n",
    "        x[idx] = float(tmp_val) + h\n",
    "        fxh1 = f(x) # f(x+h)\n",
    "        x[idx] = tmp_val - h \n",
    "        fxh2 = f(x) # f(x-h)\n",
    "        grad[idx] = (fxh1 - fxh2) / (2*h)\n",
    "        x[idx] = tmp_val\n",
    "        it.iternext()   \n",
    "    return grad\n",
    "\n",
    "def cross_entropy_err(y_hat, y):\n",
    "    delta = 1e-8\n",
    "    return -np.sum(y*np.log(y_hat + delta))"
   ]
  },
  {
   "cell_type": "code",
   "execution_count": 4,
   "metadata": {},
   "outputs": [],
   "source": [
    "class ANN:\n",
    "    def __init__(self, input_size, hidden_size, output_size, weight_init_std=0.01):\n",
    "        self.params = {}\n",
    "        self.params['W1'] = weight_init_std * np.random.randn(input_size, hidden_size)\n",
    "        self.params['b1'] = np.zeros(hidden_size)\n",
    "        self.params['W2'] = weight_init_std * np.random.randn(hidden_size, output_size)\n",
    "        self.params['b2'] = np.zeros(output_size)\n",
    " \n",
    "    def predict(self, x):\n",
    "        W1, W2 = self.params['W1'], self.params['W2']\n",
    "        b1, b2 = self.params['b1'], self.params['b2']\n",
    "        a1 = np.dot(x, W1) + b1\n",
    "        z1 = sigmoid_function(a1)\n",
    "        a2 = np.dot(z1, W2) + b2\n",
    "        y = softmax_function(a2)\n",
    "        return y\n",
    "        \n",
    "    def loss(self, x, y):\n",
    "        y_hat = self.predict(x)\n",
    "        return cross_entropy_err(y_hat, y)\n",
    "        \n",
    "    def numerical_gradient(self, x, y):\n",
    "        loss_W = lambda W: self.loss(x, y)\n",
    "        grads = {}\n",
    "        grads['W1'] = dfunc(loss_W, self.params['W1'])\n",
    "        grads['b1'] = dfunc(loss_W, self.params['b1'])\n",
    "        grads['W2'] = dfunc(loss_W, self.params['W2'])\n",
    "        grads['b2'] = dfunc(loss_W, self.params['b2'])\n",
    "        return grads"
   ]
  },
  {
   "cell_type": "markdown",
   "metadata": {},
   "source": [
    "## 建立一两层神经网络"
   ]
  },
  {
   "cell_type": "code",
   "execution_count": 5,
   "metadata": {},
   "outputs": [],
   "source": [
    "net = ANN(input_size=4, hidden_size=5, output_size=3)"
   ]
  },
  {
   "cell_type": "code",
   "execution_count": 6,
   "metadata": {},
   "outputs": [
    {
     "data": {
      "text/plain": [
       "array([[-0.03210503,  0.00685672,  0.00013808, -0.00989123,  0.00310228],\n",
       "       [ 0.01247699,  0.0101178 , -0.00086327,  0.01177054,  0.00709769],\n",
       "       [-0.00768559,  0.01629381,  0.00412   , -0.00550643, -0.01051893],\n",
       "       [-0.00265321, -0.01284534, -0.01305434,  0.00550098,  0.00363593]])"
      ]
     },
     "execution_count": 6,
     "metadata": {},
     "output_type": "execute_result"
    }
   ],
   "source": [
    "net.params['W1']"
   ]
  },
  {
   "cell_type": "code",
   "execution_count": 7,
   "metadata": {},
   "outputs": [
    {
     "data": {
      "text/plain": [
       "array([0., 0., 0., 0., 0.])"
      ]
     },
     "execution_count": 7,
     "metadata": {},
     "output_type": "execute_result"
    }
   ],
   "source": [
    "net.params['b1']"
   ]
  },
  {
   "cell_type": "code",
   "execution_count": 88,
   "metadata": {},
   "outputs": [
    {
     "data": {
      "text/plain": [
       "(5,)"
      ]
     },
     "execution_count": 88,
     "metadata": {},
     "output_type": "execute_result"
    }
   ],
   "source": [
    "net.params['W1'].shape\n",
    "net.params['b1'].shape"
   ]
  },
  {
   "cell_type": "code",
   "execution_count": 8,
   "metadata": {},
   "outputs": [
    {
     "data": {
      "text/plain": [
       "array([[ 0.00042467,  0.00300935, -0.01456152],\n",
       "       [ 0.01079981,  0.00675796,  0.0047648 ],\n",
       "       [ 0.02759437,  0.00027935, -0.00979699],\n",
       "       [ 0.02805719, -0.00420709,  0.00908706],\n",
       "       [-0.00308693, -0.00796533,  0.00830164]])"
      ]
     },
     "execution_count": 8,
     "metadata": {},
     "output_type": "execute_result"
    }
   ],
   "source": [
    "net.params['W2']"
   ]
  },
  {
   "cell_type": "code",
   "execution_count": 9,
   "metadata": {},
   "outputs": [
    {
     "data": {
      "text/plain": [
       "array([0., 0., 0.])"
      ]
     },
     "execution_count": 9,
     "metadata": {},
     "output_type": "execute_result"
    }
   ],
   "source": [
    "net.params['b2']"
   ]
  },
  {
   "cell_type": "code",
   "execution_count": 90,
   "metadata": {},
   "outputs": [
    {
     "data": {
      "text/plain": [
       "(3,)"
      ]
     },
     "execution_count": 90,
     "metadata": {},
     "output_type": "execute_result"
    }
   ],
   "source": [
    "net.params['W2'].shape\n",
    "net.params['b2'].shape"
   ]
  },
  {
   "cell_type": "markdown",
   "metadata": {},
   "source": [
    "## 准备好建立网络所需数据"
   ]
  },
  {
   "cell_type": "code",
   "execution_count": 10,
   "metadata": {},
   "outputs": [],
   "source": [
    "from sklearn.datasets import load_iris\n",
    "iris = load_iris()\n",
    "x= iris.data"
   ]
  },
  {
   "cell_type": "code",
   "execution_count": 12,
   "metadata": {},
   "outputs": [],
   "source": [
    "#x"
   ]
  },
  {
   "cell_type": "code",
   "execution_count": 13,
   "metadata": {},
   "outputs": [
    {
     "data": {
      "text/plain": [
       "array([0, 0, 0, 0, 0, 0, 0, 0, 0, 0, 0, 0, 0, 0, 0, 0, 0, 0, 0, 0, 0, 0,\n",
       "       0, 0, 0, 0, 0, 0, 0, 0, 0, 0, 0, 0, 0, 0, 0, 0, 0, 0, 0, 0, 0, 0,\n",
       "       0, 0, 0, 0, 0, 0, 1, 1, 1, 1, 1, 1, 1, 1, 1, 1, 1, 1, 1, 1, 1, 1,\n",
       "       1, 1, 1, 1, 1, 1, 1, 1, 1, 1, 1, 1, 1, 1, 1, 1, 1, 1, 1, 1, 1, 1,\n",
       "       1, 1, 1, 1, 1, 1, 1, 1, 1, 1, 1, 1, 2, 2, 2, 2, 2, 2, 2, 2, 2, 2,\n",
       "       2, 2, 2, 2, 2, 2, 2, 2, 2, 2, 2, 2, 2, 2, 2, 2, 2, 2, 2, 2, 2, 2,\n",
       "       2, 2, 2, 2, 2, 2, 2, 2, 2, 2, 2, 2, 2, 2, 2, 2, 2, 2])"
      ]
     },
     "execution_count": 13,
     "metadata": {},
     "output_type": "execute_result"
    }
   ],
   "source": [
    "iris.target"
   ]
  },
  {
   "cell_type": "code",
   "execution_count": 14,
   "metadata": {},
   "outputs": [],
   "source": [
    "y = np.zeros((len(iris.target), 3))\n",
    "for idx, val in enumerate(iris.target):\n",
    "    y[idx, val] = 1"
   ]
  },
  {
   "cell_type": "code",
   "execution_count": 16,
   "metadata": {},
   "outputs": [],
   "source": [
    "#y"
   ]
  },
  {
   "cell_type": "code",
   "execution_count": 17,
   "metadata": {},
   "outputs": [],
   "source": [
    "y_hat = net.predict(x)"
   ]
  },
  {
   "cell_type": "code",
   "execution_count": 19,
   "metadata": {},
   "outputs": [
    {
     "data": {
      "text/plain": [
       "(150, 3)"
      ]
     },
     "execution_count": 19,
     "metadata": {},
     "output_type": "execute_result"
    }
   ],
   "source": [
    "y_hat.shape"
   ]
  },
  {
   "cell_type": "code",
   "execution_count": 21,
   "metadata": {},
   "outputs": [
    {
     "data": {
      "text/plain": [
       "array([[ 0.99772905, -0.00219713, -0.00219833],\n",
       "       [ 0.99772914, -0.00219713, -0.00219827],\n",
       "       [ 0.99772908, -0.00219713, -0.00219823],\n",
       "       [ 0.99772907, -0.00219715, -0.0021982 ],\n",
       "       [ 0.99772902, -0.00219713, -0.00219831],\n",
       "       [ 0.99772901, -0.00219714, -0.00219843],\n",
       "       [ 0.99772903, -0.00219713, -0.00219822],\n",
       "       [ 0.99772905, -0.00219714, -0.0021983 ],\n",
       "       [ 0.9977291 , -0.00219714, -0.00219815],\n",
       "       [ 0.99772909, -0.00219715, -0.00219826],\n",
       "       [ 0.99772904, -0.00219714, -0.00219841],\n",
       "       [ 0.99772902, -0.00219716, -0.00219826],\n",
       "       [ 0.99772911, -0.00219714, -0.00219824],\n",
       "       [ 0.99772907, -0.00219712, -0.00219812],\n",
       "       [ 0.99772905, -0.0021971 , -0.00219851],\n",
       "       [ 0.99772896, -0.00219711, -0.00219851],\n",
       "       [ 0.99772905, -0.0021971 , -0.00219843],\n",
       "       [ 0.99772907, -0.00219712, -0.00219834],\n",
       "       [ 0.99772905, -0.00219714, -0.00219849],\n",
       "       [ 0.997729  , -0.00219713, -0.00219835],\n",
       "       [ 0.99772909, -0.00219716, -0.0021984 ],\n",
       "       [ 0.99772904, -0.00219713, -0.00219835],\n",
       "       [ 0.99772901, -0.0021971 , -0.00219821],\n",
       "       [ 0.99772913, -0.00219714, -0.00219836],\n",
       "       [ 0.99772899, -0.00219719, -0.00219826],\n",
       "       [ 0.99772914, -0.00219715, -0.00219829],\n",
       "       [ 0.99772909, -0.00219714, -0.00219832],\n",
       "       [ 0.99772906, -0.00219714, -0.00219835],\n",
       "       [ 0.99772909, -0.00219713, -0.00219835],\n",
       "       [ 0.99772905, -0.00219716, -0.00219823],\n",
       "       [ 0.99772909, -0.00219716, -0.00219825],\n",
       "       [ 0.99772915, -0.00219712, -0.00219842],\n",
       "       [ 0.9977289 , -0.00219715, -0.00219836],\n",
       "       [ 0.99772895, -0.00219712, -0.00219844],\n",
       "       [ 0.99772909, -0.00219715, -0.00219826],\n",
       "       [ 0.99772913, -0.00219711, -0.0021983 ],\n",
       "       [ 0.99772911, -0.00219711, -0.00219842],\n",
       "       [ 0.99772909, -0.00219715, -0.00219826],\n",
       "       [ 0.99772909, -0.00219713, -0.00219815],\n",
       "       [ 0.99772907, -0.00219714, -0.00219833],\n",
       "       [ 0.99772907, -0.00219711, -0.00219831],\n",
       "       [ 0.99772928, -0.00219712, -0.00219817],\n",
       "       [ 0.99772904, -0.00219713, -0.00219815],\n",
       "       [ 0.9977291 , -0.00219712, -0.00219835],\n",
       "       [ 0.99772898, -0.00219717, -0.00219836],\n",
       "       [ 0.99772915, -0.00219713, -0.00219826],\n",
       "       [ 0.99772897, -0.00219715, -0.00219834],\n",
       "       [ 0.99772906, -0.00219714, -0.0021982 ],\n",
       "       [ 0.99772902, -0.00219714, -0.00219838],\n",
       "       [ 0.99772909, -0.00219713, -0.0021983 ],\n",
       "       [-0.0022707 ,  0.99780265, -0.00219891],\n",
       "       [-0.00227074,  0.99780267, -0.00219878],\n",
       "       [-0.00227069,  0.99780263, -0.0021989 ],\n",
       "       [-0.00227064,  0.99780269, -0.00219852],\n",
       "       [-0.00227065,  0.99780266, -0.0021988 ],\n",
       "       [-0.00227078,  0.99780264, -0.00219859],\n",
       "       [-0.00227077,  0.99780265, -0.00219877],\n",
       "       [-0.00227074,  0.99780273, -0.00219835],\n",
       "       [-0.0022707 ,  0.99780264, -0.0021988 ],\n",
       "       [-0.00227074,  0.9978027 , -0.00219847],\n",
       "       [-0.00227065,  0.99780271, -0.00219837],\n",
       "       [-0.00227073,  0.99780269, -0.00219866],\n",
       "       [-0.00227062,  0.99780267, -0.00219861],\n",
       "       [-0.00227075,  0.99780263, -0.00219869],\n",
       "       [-0.00227073,  0.99780273, -0.00219856],\n",
       "       [-0.00227069,  0.99780268, -0.00219884],\n",
       "       [-0.00227079,  0.99780265, -0.00219859],\n",
       "       [-0.00227077,  0.99780266, -0.00219857],\n",
       "       [-0.00227054,  0.99780266, -0.00219871],\n",
       "       [-0.00227071,  0.99780268, -0.00219853],\n",
       "       [-0.00227077,  0.99780265, -0.0021987 ],\n",
       "       [-0.00227068,  0.9978027 , -0.00219868],\n",
       "       [-0.00227063,  0.99780262, -0.00219874],\n",
       "       [-0.00227077,  0.99780262, -0.00219867],\n",
       "       [-0.00227069,  0.99780267, -0.00219875],\n",
       "       [-0.00227068,  0.99780267, -0.00219881],\n",
       "       [-0.00227065,  0.99780263, -0.00219886],\n",
       "       [-0.00227066,  0.99780264, -0.00219887],\n",
       "       [-0.00227072,  0.99780266, -0.00219868],\n",
       "       [-0.0022707 ,  0.99780272, -0.00219854],\n",
       "       [-0.00227069,  0.99780269, -0.0021985 ],\n",
       "       [-0.0022707 ,  0.9978027 , -0.00219849],\n",
       "       [-0.00227071,  0.9978027 , -0.00219859],\n",
       "       [-0.00227071,  0.9978026 , -0.00219869],\n",
       "       [-0.00227082,  0.99780265, -0.00219854],\n",
       "       [-0.00227081,  0.99780267, -0.0021987 ],\n",
       "       [-0.0022707 ,  0.99780265, -0.00219885],\n",
       "       [-0.00227058,  0.99780266, -0.00219872],\n",
       "       [-0.0022708 ,  0.99780268, -0.00219856],\n",
       "       [-0.00227069,  0.99780269, -0.00219853],\n",
       "       [-0.00227077,  0.99780264, -0.00219852],\n",
       "       [-0.00227076,  0.99780264, -0.0021987 ],\n",
       "       [-0.00227069,  0.99780269, -0.00219859],\n",
       "       [-0.0022707 ,  0.99780273, -0.00219837],\n",
       "       [-0.00227074,  0.99780267, -0.00219856],\n",
       "       [-0.00227082,  0.99780266, -0.00219858],\n",
       "       [-0.00227077,  0.99780267, -0.00219859],\n",
       "       [-0.00227072,  0.99780267, -0.00219871],\n",
       "       [-0.00227069,  0.99780277, -0.00219841],\n",
       "       [-0.00227074,  0.99780268, -0.00219858],\n",
       "       [-0.00227071, -0.00219741,  0.99780113],\n",
       "       [-0.00227068, -0.00219737,  0.99780133],\n",
       "       [-0.00227061, -0.00219742,  0.99780099],\n",
       "       [-0.00227073, -0.00219743,  0.99780121],\n",
       "       [-0.00227066, -0.00219741,  0.99780112],\n",
       "       [-0.00227062, -0.00219749,  0.99780087],\n",
       "       [-0.00227073, -0.00219734,  0.99780157],\n",
       "       [-0.00227066, -0.00219748,  0.99780097],\n",
       "       [-0.0022706 , -0.00219744,  0.99780113],\n",
       "       [-0.00227067, -0.00219741,  0.99780091],\n",
       "       [-0.00227068, -0.00219735,  0.99780114],\n",
       "       [-0.00227062, -0.00219739,  0.99780119],\n",
       "       [-0.00227061, -0.00219738,  0.99780106],\n",
       "       [-0.00227061, -0.00219736,  0.99780135],\n",
       "       [-0.0022706 , -0.00219733,  0.99780127],\n",
       "       [-0.00227065, -0.00219735,  0.99780113],\n",
       "       [-0.00227071, -0.00219741,  0.99780116],\n",
       "       [-0.00227077, -0.00219749,  0.99780082],\n",
       "       [-0.0022705 , -0.0021975 ,  0.99780083],\n",
       "       [-0.00227061, -0.00219739,  0.99780133],\n",
       "       [-0.00227063, -0.00219739,  0.99780101],\n",
       "       [-0.00227069, -0.00219735,  0.99780136],\n",
       "       [-0.00227059, -0.0021975 ,  0.99780086],\n",
       "       [-0.00227061, -0.00219735,  0.99780122],\n",
       "       [-0.00227071, -0.00219741,  0.99780108],\n",
       "       [-0.00227072, -0.00219745,  0.99780099],\n",
       "       [-0.00227064, -0.00219734,  0.99780124],\n",
       "       [-0.00227071, -0.00219736,  0.99780126],\n",
       "       [-0.00227063, -0.0021974 ,  0.99780116],\n",
       "       [-0.00227069, -0.00219745,  0.99780102],\n",
       "       [-0.00227059, -0.00219745,  0.99780094],\n",
       "       [-0.00227076, -0.00219747,  0.99780079],\n",
       "       [-0.00227061, -0.00219739,  0.99780115],\n",
       "       [-0.00227072, -0.0021974 ,  0.99780125],\n",
       "       [-0.00227076, -0.00219746,  0.99780131],\n",
       "       [-0.00227052, -0.00219741,  0.99780083],\n",
       "       [-0.00227072, -0.00219738,  0.99780114],\n",
       "       [-0.00227075, -0.00219741,  0.99780119],\n",
       "       [-0.00227071, -0.00219735,  0.99780129],\n",
       "       [-0.00227062, -0.00219737,  0.99780104],\n",
       "       [-0.0022706 , -0.00219737,  0.99780105],\n",
       "       [-0.00227055, -0.00219732,  0.99780102],\n",
       "       [-0.00227068, -0.00219737,  0.99780133],\n",
       "       [-0.00227066, -0.00219741,  0.99780104],\n",
       "       [-0.00227063, -0.00219737,  0.99780104],\n",
       "       [-0.00227056, -0.00219734,  0.99780107],\n",
       "       [-0.00227056, -0.00219736,  0.99780122],\n",
       "       [-0.00227064, -0.00219736,  0.99780115],\n",
       "       [-0.00227073, -0.00219737,  0.99780117],\n",
       "       [-0.00227075, -0.00219738,  0.99780131]])"
      ]
     },
     "execution_count": 21,
     "metadata": {},
     "output_type": "execute_result"
    }
   ],
   "source": [
    "y - y_hat"
   ]
  },
  {
   "cell_type": "markdown",
   "metadata": {},
   "source": [
    "## 训练类神经网络"
   ]
  },
  {
   "cell_type": "code",
   "execution_count": 34,
   "metadata": {},
   "outputs": [
    {
     "data": {
      "text/plain": [
       "17.157719999999998"
      ]
     },
     "execution_count": 34,
     "metadata": {},
     "output_type": "execute_result"
    }
   ],
   "source": [
    "import time\n",
    "a = time.clock()\n",
    "epochs = 3000\n",
    "lr     = 0.01\n",
    "\n",
    "train_loss = []\n",
    "for i in range(epochs):         \n",
    "    grad = net.numerical_gradient(x,y)\n",
    "    for key in ('W1', 'b1', 'W2', 'b2'):\n",
    "        net.params[key] = net.params[key] - lr * grad[key]\n",
    "    loss = net.loss(x, y)\n",
    "    train_loss.append(loss)\n",
    "time.clock() -a"
   ]
  },
  {
   "cell_type": "code",
   "execution_count": 23,
   "metadata": {},
   "outputs": [],
   "source": [
    "#train_loss"
   ]
  },
  {
   "cell_type": "markdown",
   "metadata": {},
   "source": [
    "## 训练损失图"
   ]
  },
  {
   "cell_type": "code",
   "execution_count": 25,
   "metadata": {},
   "outputs": [
    {
     "name": "stdout",
     "output_type": "stream",
     "text": [
      "Populating the interactive namespace from numpy and matplotlib\n"
     ]
    },
    {
     "data": {
      "image/png": "[encoded data removed]",
      "text/plain": [
       "<Figure size 432x288 with 1 Axes>"
      ]
     },
     "metadata": {},
     "output_type": "display_data"
    }
   ],
   "source": [
    "%pylab inline\n",
    "import matplotlib.pyplot as plt\n",
    "plt.scatter(range(0,3000),train_loss)\n",
    "plt.xlabel('Iteration')\n",
    "plt.ylabel('Loss')\n",
    "plt.title('Training Loss')\n",
    "plt.show()"
   ]
  },
  {
   "cell_type": "markdown",
   "metadata": {},
   "source": [
    "## 验证模型准确度"
   ]
  },
  {
   "cell_type": "code",
   "execution_count": 26,
   "metadata": {},
   "outputs": [],
   "source": [
    "from sklearn.metrics import accuracy_score, confusion_matrix\n",
    "#net.predict(x)\n",
    "predicted = np.argmax(net.predict(x), axis=1)"
   ]
  },
  {
   "cell_type": "code",
   "execution_count": 27,
   "metadata": {},
   "outputs": [],
   "source": [
    "#predicted"
   ]
  },
  {
   "cell_type": "code",
   "execution_count": 28,
   "metadata": {},
   "outputs": [
    {
     "data": {
      "text/plain": [
       "0.98"
      ]
     },
     "execution_count": 28,
     "metadata": {},
     "output_type": "execute_result"
    }
   ],
   "source": [
    "# accuracy\n",
    "sum(predicted == iris.target) / len(iris.target)"
   ]
  },
  {
   "cell_type": "code",
   "execution_count": null,
   "metadata": {},
   "outputs": [],
   "source": []
  },
  {
   "cell_type": "code",
   "execution_count": 110,
   "metadata": {},
   "outputs": [
    {
     "data": {
      "text/plain": [
       "0.98"
      ]
     },
     "execution_count": 110,
     "metadata": {},
     "output_type": "execute_result"
    }
   ],
   "source": [
    "# accuracy\n",
    "accuracy_score(iris.target, predicted)"
   ]
  },
  {
   "cell_type": "code",
   "execution_count": 111,
   "metadata": {},
   "outputs": [
    {
     "data": {
      "text/plain": [
       "array([[50,  0,  0],\n",
       "       [ 0, 47,  3],\n",
       "       [ 0,  0, 50]])"
      ]
     },
     "execution_count": 111,
     "metadata": {},
     "output_type": "execute_result"
    }
   ],
   "source": [
    "# confusion matrix\n",
    "confusion_matrix(iris.target, predicted)"
   ]
  },
  {
   "cell_type": "markdown",
   "metadata": {},
   "source": [
    "## 调整交叉熵 "
   ]
  },
  {
   "cell_type": "code",
   "execution_count": 112,
   "metadata": {},
   "outputs": [],
   "source": [
    "def cross_entropy_err(y_hat, y):\n",
    "    y      = y.reshape(1, y.size)\n",
    "    y_hat  = y_hat.reshape(1, y_hat.size)\n",
    "    batch_size = y_hat.shape[0]\n",
    "    return -np.sum(y * np.log(y_hat)) / batch_size"
   ]
  },
  {
   "cell_type": "markdown",
   "metadata": {},
   "source": [
    "## 批次学习"
   ]
  },
  {
   "cell_type": "code",
   "execution_count": 113,
   "metadata": {},
   "outputs": [],
   "source": [
    "net = ANN(input_size=4, hidden_size=5, output_size=3)\n",
    "\n",
    "epochs     = 3000\n",
    "lr         = 0.01\n",
    "batch_size = 30\n",
    "\n",
    "train_loss = []\n",
    "for i in range(epochs): \n",
    "    idx = np.random.choice(iris.data.shape[0], batch_size)\n",
    "    x_batch   = iris.data[idx]\n",
    "    y_batch   = y[idx]\n",
    "    grad = net.numerical_gradient(x_batch,y_batch)\n",
    "    for key in ('W1', 'b1', 'W2', 'b2'):\n",
    "        net.params[key] = net.params[key] - lr * grad[key]\n",
    "    loss = net.loss(x_batch, y_batch)\n",
    "    train_loss.append(loss)"
   ]
  },
  {
   "cell_type": "code",
   "execution_count": 114,
   "metadata": {},
   "outputs": [
    {
     "data": {
      "text/plain": [
       "Text(0.5,1,'Training Loss')"
      ]
     },
     "execution_count": 114,
     "metadata": {},
     "output_type": "execute_result"
    },
    {
     "data": {
      "image/png": "[encoded data removed]",
      "text/plain": [
       "<Figure size 432x288 with 1 Axes>"
      ]
     },
     "metadata": {},
     "output_type": "display_data"
    }
   ],
   "source": [
    "plt.scatter(range(0,3000),train_loss)\n",
    "plt.xlabel('Iteration')\n",
    "plt.ylabel('Loss')\n",
    "plt.title('Training Loss')"
   ]
  },
  {
   "cell_type": "code",
   "execution_count": 115,
   "metadata": {},
   "outputs": [
    {
     "data": {
      "text/plain": [
       "0.9733333333333334"
      ]
     },
     "execution_count": 115,
     "metadata": {},
     "output_type": "execute_result"
    }
   ],
   "source": [
    "from sklearn.metrics import accuracy_score, confusion_matrix\n",
    "predicted = np.argmax(net.predict(x), axis=1)\n",
    "\n",
    "# accuracy\n",
    "sum(predicted == iris.target) / len(iris.target)"
   ]
  },
  {
   "cell_type": "code",
   "execution_count": 116,
   "metadata": {},
   "outputs": [
    {
     "data": {
      "text/plain": [
       "0.9733333333333334"
      ]
     },
     "execution_count": 116,
     "metadata": {},
     "output_type": "execute_result"
    }
   ],
   "source": [
    "# accuracy\n",
    "accuracy_score(iris.target, predicted)"
   ]
  },
  {
   "cell_type": "code",
   "execution_count": 117,
   "metadata": {},
   "outputs": [
    {
     "data": {
      "text/plain": [
       "array([[50,  0,  0],\n",
       "       [ 0, 46,  4],\n",
       "       [ 0,  0, 50]])"
      ]
     },
     "execution_count": 117,
     "metadata": {},
     "output_type": "execute_result"
    }
   ],
   "source": [
    "# confusion matrix\n",
    "confusion_matrix(iris.target, predicted)"
   ]
  },
  {
   "cell_type": "code",
   "execution_count": 30,
   "metadata": {},
   "outputs": [
    {
     "data": {
      "text/plain": [
       "array([[ 2.50010016, -0.84753194,  4.09555837, -0.58543634, -4.09126851],\n",
       "       [ 4.03176042, -2.64921168,  2.95216725,  0.54598561, -4.77760827],\n",
       "       [-4.76145605,  4.40283185, -5.92304228, -2.63160855,  6.24879742],\n",
       "       [-5.30647729,  2.11465715, -6.13714208, -1.2751506 ,  8.80280972]])"
      ]
     },
     "execution_count": 30,
     "metadata": {},
     "output_type": "execute_result"
    }
   ],
   "source": [
    "net.params['W1']"
   ]
  },
  {
   "cell_type": "code",
   "execution_count": 31,
   "metadata": {},
   "outputs": [
    {
     "data": {
      "text/plain": [
       "array([ 2.99286952, -0.53316119,  3.4938831 ,  0.11668669, -7.42206836])"
      ]
     },
     "execution_count": 31,
     "metadata": {},
     "output_type": "execute_result"
    }
   ],
   "source": [
    "net.params['b1']"
   ]
  },
  {
   "cell_type": "code",
   "execution_count": 32,
   "metadata": {},
   "outputs": [
    {
     "data": {
      "text/plain": [
       "array([[ 3.01987975, -0.10665899, -5.44585136],\n",
       "       [-6.25249935,  6.7647444 ,  3.54878241],\n",
       "       [ 2.53388847,  0.04602202, -5.43880835],\n",
       "       [ 0.64457859, -0.69113497, -1.65615543],\n",
       "       [-1.1894297 , -4.90342002, -0.32933171]])"
      ]
     },
     "execution_count": 32,
     "metadata": {},
     "output_type": "execute_result"
    }
   ],
   "source": [
    "net.params['W2']"
   ]
  },
  {
   "cell_type": "code",
   "execution_count": 33,
   "metadata": {},
   "outputs": [
    {
     "data": {
      "text/plain": [
       "array([-0.34358427, -1.56037175,  1.90395445])"
      ]
     },
     "execution_count": 33,
     "metadata": {},
     "output_type": "execute_result"
    }
   ],
   "source": [
    "net.params['b2']"
   ]
  },
  {
   "cell_type": "code",
   "execution_count": null,
   "metadata": {},
   "outputs": [],
   "source": []
  }
 ],
 "metadata": {
  "kernelspec": {
   "display_name": "Python 3",
   "language": "python",
   "name": "python3"
  },
  "language_info": {
   "codemirror_mode": {
    "name": "ipython",
    "version": 3
   },
   "file_extension": ".py",
   "mimetype": "text/x-python",
   "name": "python",
   "nbconvert_exporter": "python",
   "pygments_lexer": "ipython3",
   "version": "3.6.2"
  }
 },
 "nbformat": 4,
 "nbformat_minor": 2
}
