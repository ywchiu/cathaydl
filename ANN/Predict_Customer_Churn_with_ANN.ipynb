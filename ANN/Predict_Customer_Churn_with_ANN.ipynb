{
  "nbformat": 4,
  "nbformat_minor": 0,
  "metadata": {
    "colab": {
      "name": "Predict Customer Churn with ANN.ipynb",
      "provenance": [],
      "collapsed_sections": []
    },
    "kernelspec": {
      "name": "python3",
      "display_name": "Python 3"
    }
  },
  "cells": [
    {
      "cell_type": "markdown",
      "metadata": {
        "id": "DYoiwAIyWkwf",
        "colab_type": "text"
      },
      "source": [
        "## 讀取資料"
      ]
    },
    {
      "cell_type": "code",
      "metadata": {
        "id": "eUzkcuXDULW0",
        "colab_type": "code",
        "colab": {
          "base_uri": "https://localhost:8080/",
          "height": 218
        },
        "outputId": "f8221aab-da52-4f29-edc4-fb0ed2ed9f76"
      },
      "source": [
        "import pandas\n",
        "df = pandas.read_csv('https://github.com/ywchiu/tibamedl/raw/master/Data/customer_churn.csv', index_col=0, header = 0)\n",
        "df.head()"
      ],
      "execution_count": 3,
      "outputs": [
        {
          "output_type": "execute_result",
          "data": {
            "text/html": [
              "<div>\n",
              "<style scoped>\n",
              "    .dataframe tbody tr th:only-of-type {\n",
              "        vertical-align: middle;\n",
              "    }\n",
              "\n",
              "    .dataframe tbody tr th {\n",
              "        vertical-align: top;\n",
              "    }\n",
              "\n",
              "    .dataframe thead th {\n",
              "        text-align: right;\n",
              "    }\n",
              "</style>\n",
              "<table border=\"1\" class=\"dataframe\">\n",
              "  <thead>\n",
              "    <tr style=\"text-align: right;\">\n",
              "      <th></th>\n",
              "      <th>state</th>\n",
              "      <th>account_length</th>\n",
              "      <th>area_code</th>\n",
              "      <th>international_plan</th>\n",
              "      <th>voice_mail_plan</th>\n",
              "      <th>number_vmail_messages</th>\n",
              "      <th>total_day_minutes</th>\n",
              "      <th>total_day_calls</th>\n",
              "      <th>total_day_charge</th>\n",
              "      <th>total_eve_minutes</th>\n",
              "      <th>total_eve_calls</th>\n",
              "      <th>total_eve_charge</th>\n",
              "      <th>total_night_minutes</th>\n",
              "      <th>total_night_calls</th>\n",
              "      <th>total_night_charge</th>\n",
              "      <th>total_intl_minutes</th>\n",
              "      <th>total_intl_calls</th>\n",
              "      <th>total_intl_charge</th>\n",
              "      <th>number_customer_service_calls</th>\n",
              "      <th>churn</th>\n",
              "    </tr>\n",
              "  </thead>\n",
              "  <tbody>\n",
              "    <tr>\n",
              "      <th>1</th>\n",
              "      <td>KS</td>\n",
              "      <td>128</td>\n",
              "      <td>area_code_415</td>\n",
              "      <td>no</td>\n",
              "      <td>yes</td>\n",
              "      <td>25</td>\n",
              "      <td>265.1</td>\n",
              "      <td>110</td>\n",
              "      <td>45.07</td>\n",
              "      <td>197.4</td>\n",
              "      <td>99</td>\n",
              "      <td>16.78</td>\n",
              "      <td>244.7</td>\n",
              "      <td>91</td>\n",
              "      <td>11.01</td>\n",
              "      <td>10.0</td>\n",
              "      <td>3</td>\n",
              "      <td>2.70</td>\n",
              "      <td>1</td>\n",
              "      <td>no</td>\n",
              "    </tr>\n",
              "    <tr>\n",
              "      <th>2</th>\n",
              "      <td>OH</td>\n",
              "      <td>107</td>\n",
              "      <td>area_code_415</td>\n",
              "      <td>no</td>\n",
              "      <td>yes</td>\n",
              "      <td>26</td>\n",
              "      <td>161.6</td>\n",
              "      <td>123</td>\n",
              "      <td>27.47</td>\n",
              "      <td>195.5</td>\n",
              "      <td>103</td>\n",
              "      <td>16.62</td>\n",
              "      <td>254.4</td>\n",
              "      <td>103</td>\n",
              "      <td>11.45</td>\n",
              "      <td>13.7</td>\n",
              "      <td>3</td>\n",
              "      <td>3.70</td>\n",
              "      <td>1</td>\n",
              "      <td>no</td>\n",
              "    </tr>\n",
              "    <tr>\n",
              "      <th>3</th>\n",
              "      <td>NJ</td>\n",
              "      <td>137</td>\n",
              "      <td>area_code_415</td>\n",
              "      <td>no</td>\n",
              "      <td>no</td>\n",
              "      <td>0</td>\n",
              "      <td>243.4</td>\n",
              "      <td>114</td>\n",
              "      <td>41.38</td>\n",
              "      <td>121.2</td>\n",
              "      <td>110</td>\n",
              "      <td>10.30</td>\n",
              "      <td>162.6</td>\n",
              "      <td>104</td>\n",
              "      <td>7.32</td>\n",
              "      <td>12.2</td>\n",
              "      <td>5</td>\n",
              "      <td>3.29</td>\n",
              "      <td>0</td>\n",
              "      <td>no</td>\n",
              "    </tr>\n",
              "    <tr>\n",
              "      <th>4</th>\n",
              "      <td>OH</td>\n",
              "      <td>84</td>\n",
              "      <td>area_code_408</td>\n",
              "      <td>yes</td>\n",
              "      <td>no</td>\n",
              "      <td>0</td>\n",
              "      <td>299.4</td>\n",
              "      <td>71</td>\n",
              "      <td>50.90</td>\n",
              "      <td>61.9</td>\n",
              "      <td>88</td>\n",
              "      <td>5.26</td>\n",
              "      <td>196.9</td>\n",
              "      <td>89</td>\n",
              "      <td>8.86</td>\n",
              "      <td>6.6</td>\n",
              "      <td>7</td>\n",
              "      <td>1.78</td>\n",
              "      <td>2</td>\n",
              "      <td>no</td>\n",
              "    </tr>\n",
              "    <tr>\n",
              "      <th>5</th>\n",
              "      <td>OK</td>\n",
              "      <td>75</td>\n",
              "      <td>area_code_415</td>\n",
              "      <td>yes</td>\n",
              "      <td>no</td>\n",
              "      <td>0</td>\n",
              "      <td>166.7</td>\n",
              "      <td>113</td>\n",
              "      <td>28.34</td>\n",
              "      <td>148.3</td>\n",
              "      <td>122</td>\n",
              "      <td>12.61</td>\n",
              "      <td>186.9</td>\n",
              "      <td>121</td>\n",
              "      <td>8.41</td>\n",
              "      <td>10.1</td>\n",
              "      <td>3</td>\n",
              "      <td>2.73</td>\n",
              "      <td>3</td>\n",
              "      <td>no</td>\n",
              "    </tr>\n",
              "  </tbody>\n",
              "</table>\n",
              "</div>"
            ],
            "text/plain": [
              "  state  account_length  ... number_customer_service_calls churn\n",
              "1    KS             128  ...                             1    no\n",
              "2    OH             107  ...                             1    no\n",
              "3    NJ             137  ...                             0    no\n",
              "4    OH              84  ...                             2    no\n",
              "5    OK              75  ...                             3    no\n",
              "\n",
              "[5 rows x 20 columns]"
            ]
          },
          "metadata": {
            "tags": []
          },
          "execution_count": 3
        }
      ]
    },
    {
      "cell_type": "markdown",
      "metadata": {
        "id": "ThxAjyL7WnzV",
        "colab_type": "text"
      },
      "source": [
        "## 資料前處理"
      ]
    },
    {
      "cell_type": "code",
      "metadata": {
        "id": "78ztY2N4UOxW",
        "colab_type": "code",
        "colab": {}
      },
      "source": [
        "df = df.iloc[:,3:]\n",
        "cat_var = ['international_plan','voice_mail_plan', 'churn']\n",
        "\n",
        "for var in cat_var:\n",
        "    df[var] = df[var].map(lambda e: 1 if e == 'yes' else 0)\n",
        "y = df.iloc[:,-1]\n",
        "x = df.iloc[:,:-1]"
      ],
      "execution_count": 0,
      "outputs": []
    },
    {
      "cell_type": "markdown",
      "metadata": {
        "id": "PDjudX3JWr1C",
        "colab_type": "text"
      },
      "source": [
        "## 分為訓練與測試資料集"
      ]
    },
    {
      "cell_type": "code",
      "metadata": {
        "id": "u-KrYGHPUTnb",
        "colab_type": "code",
        "colab": {}
      },
      "source": [
        "from sklearn.model_selection import train_test_split\n",
        "x_train, x_test, y_train, y_test = train_test_split(x, y, test_size = 0.33, random_state = 123)"
      ],
      "execution_count": 0,
      "outputs": []
    },
    {
      "cell_type": "markdown",
      "metadata": {
        "id": "aPqCoyFLWwda",
        "colab_type": "text"
      },
      "source": [
        "## 資料標準化"
      ]
    },
    {
      "cell_type": "code",
      "metadata": {
        "id": "OS9mFLS_UXNt",
        "colab_type": "code",
        "colab": {}
      },
      "source": [
        "from sklearn.preprocessing import StandardScaler\n",
        "sc = StandardScaler()\n",
        "x_train = sc.fit_transform(x_train)\n",
        "x_test = sc.fit_transform(x_test)"
      ],
      "execution_count": 0,
      "outputs": []
    },
    {
      "cell_type": "markdown",
      "metadata": {
        "id": "SFLSD4qBWzov",
        "colab_type": "text"
      },
      "source": [
        "## 建立模型"
      ]
    },
    {
      "cell_type": "code",
      "metadata": {
        "id": "ildcHXrtU1HX",
        "colab_type": "code",
        "colab": {}
      },
      "source": [
        "%tensorflow_version 2.x"
      ],
      "execution_count": 0,
      "outputs": []
    },
    {
      "cell_type": "code",
      "metadata": {
        "id": "hO7Aneh0Uyzk",
        "colab_type": "code",
        "colab": {}
      },
      "source": [
        "import tensorflow as tf"
      ],
      "execution_count": 0,
      "outputs": []
    },
    {
      "cell_type": "code",
      "metadata": {
        "id": "E06TeUsLUbnb",
        "colab_type": "code",
        "colab": {}
      },
      "source": [
        "model = tf.keras.models.Sequential([                                 \n",
        "  tf.keras.layers.Dense(8, activation='relu', input_dim = 16),\n",
        "  tf.keras.layers.Dense(1, activation='sigmoid')\n",
        "])"
      ],
      "execution_count": 0,
      "outputs": []
    },
    {
      "cell_type": "code",
      "metadata": {
        "id": "tuAt-tjiUweI",
        "colab_type": "code",
        "colab": {
          "base_uri": "https://localhost:8080/",
          "height": 400
        },
        "outputId": "445adc2f-6679-4840-9129-4ec8ac15da8c"
      },
      "source": [
        "model.compile(optimizer='sgd',\n",
        "              loss='binary_crossentropy',\n",
        "              metrics=['accuracy'])\n",
        "model.fit(x_train, y_train,batch_size=10,\n",
        "                    epochs=10,\n",
        "                    validation_data=(x_test, y_test))"
      ],
      "execution_count": 17,
      "outputs": [
        {
          "output_type": "stream",
          "text": [
            "Epoch 1/10\n",
            "224/224 [==============================] - 1s 2ms/step - loss: 0.5673 - accuracy: 0.7452 - val_loss: 0.4451 - val_accuracy: 0.8618\n",
            "Epoch 2/10\n",
            "224/224 [==============================] - 0s 2ms/step - loss: 0.4419 - accuracy: 0.8509 - val_loss: 0.3985 - val_accuracy: 0.8636\n",
            "Epoch 3/10\n",
            "224/224 [==============================] - 0s 2ms/step - loss: 0.4106 - accuracy: 0.8509 - val_loss: 0.3769 - val_accuracy: 0.8636\n",
            "Epoch 4/10\n",
            "224/224 [==============================] - 0s 2ms/step - loss: 0.3916 - accuracy: 0.8509 - val_loss: 0.3617 - val_accuracy: 0.8636\n",
            "Epoch 5/10\n",
            "224/224 [==============================] - 0s 2ms/step - loss: 0.3776 - accuracy: 0.8513 - val_loss: 0.3500 - val_accuracy: 0.8645\n",
            "Epoch 6/10\n",
            "224/224 [==============================] - 0s 2ms/step - loss: 0.3660 - accuracy: 0.8509 - val_loss: 0.3402 - val_accuracy: 0.8691\n",
            "Epoch 7/10\n",
            "224/224 [==============================] - 0s 2ms/step - loss: 0.3569 - accuracy: 0.8540 - val_loss: 0.3320 - val_accuracy: 0.8727\n",
            "Epoch 8/10\n",
            "224/224 [==============================] - 0s 2ms/step - loss: 0.3493 - accuracy: 0.8580 - val_loss: 0.3250 - val_accuracy: 0.8736\n",
            "Epoch 9/10\n",
            "224/224 [==============================] - 0s 2ms/step - loss: 0.3452 - accuracy: 0.8603 - val_loss: 0.3193 - val_accuracy: 0.8718\n",
            "Epoch 10/10\n",
            "224/224 [==============================] - 0s 2ms/step - loss: 0.3368 - accuracy: 0.8630 - val_loss: 0.3144 - val_accuracy: 0.8764\n"
          ],
          "name": "stdout"
        },
        {
          "output_type": "execute_result",
          "data": {
            "text/plain": [
              "<tensorflow.python.keras.callbacks.History at 0x7f5690292e48>"
            ]
          },
          "metadata": {
            "tags": []
          },
          "execution_count": 17
        }
      ]
    },
    {
      "cell_type": "markdown",
      "metadata": {
        "id": "2JbZWaL1W3Zg",
        "colab_type": "text"
      },
      "source": [
        "## 評估預測結果"
      ]
    },
    {
      "cell_type": "code",
      "metadata": {
        "id": "MIP7lpS8VgGi",
        "colab_type": "code",
        "colab": {
          "base_uri": "https://localhost:8080/",
          "height": 138
        },
        "outputId": "abd6e8f8-dbfc-4145-f14e-64f1137f14c1"
      },
      "source": [
        "predictions = model(x_test).numpy()\n",
        "predictions"
      ],
      "execution_count": 24,
      "outputs": [
        {
          "output_type": "execute_result",
          "data": {
            "text/plain": [
              "array([[0.3689566 ],\n",
              "       [0.15693921],\n",
              "       [0.06165951],\n",
              "       ...,\n",
              "       [0.12973218],\n",
              "       [0.03723093],\n",
              "       [0.06237311]], dtype=float32)"
            ]
          },
          "metadata": {
            "tags": []
          },
          "execution_count": 24
        }
      ]
    },
    {
      "cell_type": "code",
      "metadata": {
        "id": "-3bNTrIvWHkv",
        "colab_type": "code",
        "colab": {}
      },
      "source": [
        "y_pred = (predictions > 0.5)"
      ],
      "execution_count": 0,
      "outputs": []
    },
    {
      "cell_type": "code",
      "metadata": {
        "id": "pgbKk5fcWSL1",
        "colab_type": "code",
        "colab": {
          "base_uri": "https://localhost:8080/",
          "height": 35
        },
        "outputId": "0fdb886c-66db-466d-bc39-631855e07b33"
      },
      "source": [
        "from sklearn.metrics import accuracy_score\n",
        "accuracy_score(y_test, y_pred )"
      ],
      "execution_count": 26,
      "outputs": [
        {
          "output_type": "execute_result",
          "data": {
            "text/plain": [
              "0.8763636363636363"
            ]
          },
          "metadata": {
            "tags": []
          },
          "execution_count": 26
        }
      ]
    },
    {
      "cell_type": "code",
      "metadata": {
        "id": "Deej1T2nWVHc",
        "colab_type": "code",
        "colab": {}
      },
      "source": [
        "from sklearn.metrics import confusion_matrix\n",
        "cm = confusion_matrix(y_test, y_pred )"
      ],
      "execution_count": 0,
      "outputs": []
    },
    {
      "cell_type": "code",
      "metadata": {
        "id": "VtVNKmUoWccc",
        "colab_type": "code",
        "colab": {
          "base_uri": "https://localhost:8080/",
          "height": 52
        },
        "outputId": "a18c0102-a34a-499b-fcd0-f245cb73df3c"
      },
      "source": [
        "cm"
      ],
      "execution_count": 28,
      "outputs": [
        {
          "output_type": "execute_result",
          "data": {
            "text/plain": [
              "array([[938,  12],\n",
              "       [124,  26]])"
            ]
          },
          "metadata": {
            "tags": []
          },
          "execution_count": 28
        }
      ]
    },
    {
      "cell_type": "code",
      "metadata": {
        "id": "ZHsOSswcWeDC",
        "colab_type": "code",
        "colab": {
          "base_uri": "https://localhost:8080/",
          "height": 173
        },
        "outputId": "59ec9e1a-0ae0-4236-e7f7-88d53758c2f5"
      },
      "source": [
        "\n",
        "from sklearn.metrics import classification_report\n",
        "print(classification_report(y_test, y_pred))"
      ],
      "execution_count": 29,
      "outputs": [
        {
          "output_type": "stream",
          "text": [
            "              precision    recall  f1-score   support\n",
            "\n",
            "           0       0.88      0.99      0.93       950\n",
            "           1       0.68      0.17      0.28       150\n",
            "\n",
            "    accuracy                           0.88      1100\n",
            "   macro avg       0.78      0.58      0.60      1100\n",
            "weighted avg       0.86      0.88      0.84      1100\n",
            "\n"
          ],
          "name": "stdout"
        }
      ]
    }
  ]
}