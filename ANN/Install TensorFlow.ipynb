{
 "cells": [
  {
   "attachments": {},
   "cell_type": "markdown",
   "metadata": {},
   "source": [
    "## 安装TensorFlow"
   ]
  },
  {
   "cell_type": "code",
   "execution_count": 1,
   "metadata": {},
   "outputs": [
    {
     "name": "stdout",
     "output_type": "stream",
     "text": [
      "Requirement already satisfied: tensorflow in /Users/davidchiu/.pyenv/versions/3.6.2/lib/python3.6/site-packages\n",
      "Requirement already satisfied: grpcio>=1.8.6 in /Users/davidchiu/.pyenv/versions/3.6.2/lib/python3.6/site-packages (from tensorflow)\n",
      "Requirement already satisfied: gast>=0.2.0 in /Users/davidchiu/.pyenv/versions/3.6.2/lib/python3.6/site-packages (from tensorflow)\n",
      "Requirement already satisfied: tensorboard<1.9.0,>=1.8.0 in /Users/davidchiu/.pyenv/versions/3.6.2/lib/python3.6/site-packages (from tensorflow)\n",
      "Requirement already satisfied: termcolor>=1.1.0 in /Users/davidchiu/.pyenv/versions/3.6.2/lib/python3.6/site-packages (from tensorflow)\n",
      "Requirement already satisfied: numpy>=1.13.3 in /Users/davidchiu/.pyenv/versions/3.6.2/lib/python3.6/site-packages (from tensorflow)\n",
      "Requirement already satisfied: astor>=0.6.0 in /Users/davidchiu/.pyenv/versions/3.6.2/lib/python3.6/site-packages (from tensorflow)\n",
      "Requirement already satisfied: six>=1.10.0 in /Users/davidchiu/.pyenv/versions/3.6.2/lib/python3.6/site-packages (from tensorflow)\n",
      "Requirement already satisfied: wheel>=0.26 in /Users/davidchiu/.pyenv/versions/3.6.2/lib/python3.6/site-packages (from tensorflow)\n",
      "Requirement already satisfied: protobuf>=3.4.0 in /Users/davidchiu/.pyenv/versions/3.6.2/lib/python3.6/site-packages (from tensorflow)\n",
      "Requirement already satisfied: absl-py>=0.1.6 in /Users/davidchiu/.pyenv/versions/3.6.2/lib/python3.6/site-packages (from tensorflow)\n",
      "Requirement already satisfied: werkzeug>=0.11.10 in /Users/davidchiu/.pyenv/versions/3.6.2/lib/python3.6/site-packages (from tensorboard<1.9.0,>=1.8.0->tensorflow)\n",
      "Requirement already satisfied: bleach==1.5.0 in /Users/davidchiu/.pyenv/versions/3.6.2/lib/python3.6/site-packages (from tensorboard<1.9.0,>=1.8.0->tensorflow)\n",
      "Requirement already satisfied: html5lib==0.9999999 in /Users/davidchiu/.pyenv/versions/3.6.2/lib/python3.6/site-packages (from tensorboard<1.9.0,>=1.8.0->tensorflow)\n",
      "Requirement already satisfied: markdown>=2.6.8 in /Users/davidchiu/.pyenv/versions/3.6.2/lib/python3.6/site-packages (from tensorboard<1.9.0,>=1.8.0->tensorflow)\n",
      "Requirement already satisfied: setuptools in /Users/davidchiu/.pyenv/versions/3.6.2/lib/python3.6/site-packages (from protobuf>=3.4.0->tensorflow)\n",
      "\u001b[33mYou are using pip version 9.0.1, however version 10.0.1 is available.\n",
      "You should consider upgrading via the 'pip install --upgrade pip' command.\u001b[0m\n"
     ]
    }
   ],
   "source": [
    "! pip install tensorflow"
   ]
  },
  {
   "attachments": {},
   "cell_type": "markdown",
   "metadata": {},
   "source": [
    "## 第一个TensorFlow 实例"
   ]
  },
  {
   "cell_type": "code",
   "execution_count": 6,
   "metadata": {},
   "outputs": [],
   "source": [
    "import tensorflow as tf"
   ]
  },
  {
   "cell_type": "code",
   "execution_count": 7,
   "metadata": {},
   "outputs": [
    {
     "data": {
      "text/plain": [
       "b'Hello World'"
      ]
     },
     "execution_count": 7,
     "metadata": {},
     "output_type": "execute_result"
    }
   ],
   "source": [
    "hello = tf.constant('Hello World')\n",
    "s = tf.Session()\n",
    "s.run(hello)"
   ]
  }
 ],
 "metadata": {
  "kernelspec": {
   "display_name": "Python 3",
   "language": "python",
   "name": "python3"
  },
  "language_info": {
   "codemirror_mode": {
    "name": "ipython",
    "version": 3
   },
   "file_extension": ".py",
   "mimetype": "text/x-python",
   "name": "python",
   "nbconvert_exporter": "python",
   "pygments_lexer": "ipython3",
   "version": "3.6.2"
  }
 },
 "nbformat": 4,
 "nbformat_minor": 2
}
