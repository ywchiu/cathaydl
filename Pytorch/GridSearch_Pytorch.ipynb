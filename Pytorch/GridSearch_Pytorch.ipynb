{
  "nbformat": 4,
  "nbformat_minor": 0,
  "metadata": {
    "colab": {
      "provenance": []
    },
    "kernelspec": {
      "name": "python3",
      "display_name": "Python 3"
    },
    "language_info": {
      "name": "python"
    }
  },
  "cells": [
    {
      "cell_type": "markdown",
      "source": [
        "## 載入資料"
      ],
      "metadata": {
        "id": "T8TGNRju00dj"
      }
    },
    {
      "cell_type": "code",
      "execution_count": null,
      "metadata": {
        "id": "qFPP-Ljx0oOy"
      },
      "outputs": [],
      "source": [
        "import torch\n",
        "import torch.nn as nn\n",
        "import torchvision\n",
        "import torchvision.transforms as transforms\n",
        "from sklearn.model_selection import GridSearchCV\n",
        "from sklearn.metrics import accuracy_score\n",
        "\n",
        "# 超參數\n",
        "num_epochs = 5\n",
        "batch_size = 64\n",
        "learning_rate = [0.001, 0.01, 0.1]\n",
        "dropout_rates = [0.2, 0.5, 0.8]\n",
        "\n",
        "# MNIST數據預處理\n",
        "transform = transforms.Compose([transforms.ToTensor(), transforms.Normalize((0.5,), (0.5,))])\n",
        "mnist_dataset = torchvision.datasets.MNIST(root='./data', train=True, transform=transform, download=True)\n",
        "\n",
        "# 分割數據為訓練集和測試集\n",
        "train_size = int(0.8 * len(mnist_dataset))\n",
        "test_size = len(mnist_dataset) - train_size\n",
        "train_dataset, test_dataset = torch.utils.data.random_split(mnist_dataset, [train_size, test_size])\n",
        "\n",
        "train_loader = torch.utils.data.DataLoader(dataset=train_dataset, batch_size=batch_size, shuffle=True)\n",
        "test_loader = torch.utils.data.DataLoader(dataset=test_dataset, batch_size=batch_size, shuffle=False)"
      ]
    },
    {
      "cell_type": "markdown",
      "source": [
        "## 建立模型"
      ],
      "metadata": {
        "id": "YQyKgeGq04fn"
      }
    },
    {
      "cell_type": "code",
      "source": [
        "# 定義具有Dropout的ANN模型\n",
        "class ANNWithDropout(nn.Module):\n",
        "    def __init__(self, dropout_rate):\n",
        "        super(ANNWithDropout, self).__init__()\n",
        "        self.flatten = nn.Flatten()\n",
        "        self.fc1 = nn.Linear(28 * 28, 128)\n",
        "        self.relu = nn.ReLU()\n",
        "        self.dropout = nn.Dropout(dropout_rate)  # 根據超參數添加Dropout\n",
        "        self.fc2 = nn.Linear(128, 10)\n",
        "\n",
        "    def forward(self, x):\n",
        "        x = self.flatten(x)\n",
        "        x = self.fc1(x)\n",
        "        x = self.relu(x)\n",
        "        x = self.dropout(x)  # 在這一層後應用Dropout\n",
        "        x = self.fc2(x)\n",
        "        return x"
      ],
      "metadata": {
        "id": "X5YFsTbl03_E"
      },
      "execution_count": null,
      "outputs": []
    },
    {
      "cell_type": "markdown",
      "source": [
        "## 使用 GridSearchCV 執行網格搜索"
      ],
      "metadata": {
        "id": "x-Gi7RnB0wjE"
      }
    },
    {
      "cell_type": "code",
      "source": [
        "# 定義網格搜索參數\n",
        "param_grid = {'learning_rate': learning_rate, 'dropout_rate': dropout_rates}\n",
        "\n",
        "\n",
        "\n",
        "# 使用 GridSearchCV 執行網格搜索\n",
        "best_accuracy = 0\n",
        "best_params = None\n",
        "\n",
        "for lr in learning_rate:\n",
        "    for dropout in dropout_rates:\n",
        "        model = ANNWithDropout(dropout)\n",
        "        criterion = nn.CrossEntropyLoss()\n",
        "        optimizer = torch.optim.Adam(model.parameters(), lr=lr)\n",
        "\n",
        "        model.train()\n",
        "        for epoch in range(num_epochs):\n",
        "            for images, labels in train_loader:\n",
        "                optimizer.zero_grad()\n",
        "                outputs = model(images)\n",
        "                loss = criterion(outputs, labels)\n",
        "                loss.backward()\n",
        "                optimizer.step()\n",
        "\n",
        "        model.eval()\n",
        "        correct = 0\n",
        "        total = 0\n",
        "        with torch.no_grad():\n",
        "            for images, labels in test_loader:\n",
        "                outputs = model(images)\n",
        "                _, predicted = torch.max(outputs.data, 1)\n",
        "                total += labels.size(0)\n",
        "                correct += (predicted == labels).sum().item()\n",
        "\n",
        "        accuracy = correct / total\n",
        "        print(f'Learning Rate: {lr}, Dropout Rate: {dropout}, Test Accuracy: {accuracy:.4f}')\n",
        "\n",
        "        if accuracy > best_accuracy:\n",
        "            best_accuracy = accuracy\n",
        "            best_params = {'learning_rate': lr, 'dropout_rate': dropout}\n",
        "\n",
        "print(\"Best Parameters:\", best_params)\n",
        "print(\"Best Test Accuracy:\", best_accuracy)\n"
      ],
      "metadata": {
        "id": "t8-4dNSB0u0X"
      },
      "execution_count": null,
      "outputs": []
    }
  ]
}