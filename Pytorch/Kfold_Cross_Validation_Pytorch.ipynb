{
  "nbformat": 4,
  "nbformat_minor": 0,
  "metadata": {
    "colab": {
      "provenance": []
    },
    "kernelspec": {
      "name": "python3",
      "display_name": "Python 3"
    },
    "language_info": {
      "name": "python"
    }
  },
  "cells": [
    {
      "cell_type": "markdown",
      "source": [
        "## 前置處理"
      ],
      "metadata": {
        "id": "Ws7n2NGIQEAh"
      }
    },
    {
      "cell_type": "code",
      "execution_count": 2,
      "metadata": {
        "id": "XzKNP5ZsPL5I"
      },
      "outputs": [],
      "source": [
        "import torch\n",
        "import torch.nn as nn\n",
        "import torchvision\n",
        "import torchvision.transforms as transforms\n",
        "from sklearn.model_selection import KFold\n",
        "\n",
        "\n",
        "# 超參數\n",
        "num_epochs = 5\n",
        "batch_size = 64\n",
        "learning_rate = 0.001\n",
        "num_folds = 5\n",
        "\n",
        "# MNIST數據預處理\n",
        "transform = transforms.Compose([transforms.ToTensor(), transforms.Normalize((0.5,), (0.5,))])\n",
        "mnist_dataset = torchvision.datasets.MNIST(root='./data', train=True, transform=transform, download=True)\n",
        "\n",
        "\n"
      ]
    },
    {
      "cell_type": "markdown",
      "source": [
        "## 建立 ANN"
      ],
      "metadata": {
        "id": "8ReuXHYRQJI6"
      }
    },
    {
      "cell_type": "code",
      "source": [
        "\n",
        "# 定義簡單的ANN模型\n",
        "class ANN(nn.Module):\n",
        "    def __init__(self):\n",
        "        super(ANN, self).__init__()\n",
        "        self.flatten = nn.Flatten()\n",
        "        self.fc1 = nn.Linear(28 * 28, 128)\n",
        "        self.relu = nn.ReLU()\n",
        "        self.fc2 = nn.Linear(128, 10)\n",
        "\n",
        "    def forward(self, x):\n",
        "        x = self.flatten(x)\n",
        "        x = self.fc1(x)\n",
        "        x = self.relu(x)\n",
        "        x = self.fc2(x)\n",
        "        return x"
      ],
      "metadata": {
        "id": "8T1r_C6HPdeL"
      },
      "execution_count": 3,
      "outputs": []
    },
    {
      "cell_type": "markdown",
      "source": [
        "## Kfold with ANN"
      ],
      "metadata": {
        "id": "aieuZpzNQOFU"
      }
    },
    {
      "cell_type": "code",
      "source": [
        "kf = KFold(n_splits=num_folds, shuffle=True, random_state=42)\n",
        "fold = 1\n",
        "\n",
        "for train_indices, val_indices in kf.split(mnist_dataset):\n",
        "    print(f\"Fold {fold}\")\n",
        "    train_sampler = torch.utils.data.SubsetRandomSampler(train_indices)\n",
        "    val_sampler = torch.utils.data.SubsetRandomSampler(val_indices)\n",
        "\n",
        "    train_loader = torch.utils.data.DataLoader(dataset=mnist_dataset, batch_size=batch_size, sampler=train_sampler)\n",
        "    val_loader = torch.utils.data.DataLoader(dataset=mnist_dataset, batch_size=batch_size, sampler=val_sampler)\n",
        "\n",
        "    model = ANN()\n",
        "    criterion = nn.CrossEntropyLoss()\n",
        "    optimizer = torch.optim.Adam(model.parameters(), lr=learning_rate)\n",
        "\n",
        "    for epoch in range(num_epochs):\n",
        "        model.train()\n",
        "        for images, labels in train_loader:\n",
        "            optimizer.zero_grad()\n",
        "            outputs = model(images)\n",
        "            loss = criterion(outputs, labels)\n",
        "            loss.backward()\n",
        "            optimizer.step()\n",
        "\n",
        "        model.eval()\n",
        "        correct = 0\n",
        "        total = 0\n",
        "        with torch.no_grad():\n",
        "            for images, labels in val_loader:\n",
        "                outputs = model(images)\n",
        "                _, predicted = torch.max(outputs.data, 1)\n",
        "                total += labels.size(0)\n",
        "                correct += (predicted == labels).sum().item()\n",
        "\n",
        "        accuracy = correct / total\n",
        "        print(f'Epoch [{epoch+1}/{num_epochs}] - Validation Accuracy: {accuracy:.4f}')\n",
        "\n",
        "    fold += 1"
      ],
      "metadata": {
        "id": "nPSQk8vCQNmD"
      },
      "execution_count": null,
      "outputs": []
    },
    {
      "cell_type": "markdown",
      "source": [
        "## ANN With Dropout"
      ],
      "metadata": {
        "id": "KJJ5TMwEQR5W"
      }
    },
    {
      "cell_type": "code",
      "source": [
        "# 定義具有Dropout的ANN模型\n",
        "class ANNWithDropout(nn.Module):\n",
        "    def __init__(self):\n",
        "        super(ANNWithDropout, self).__init__()\n",
        "        self.flatten = nn.Flatten()\n",
        "        self.fc1 = nn.Linear(28 * 28, 128)\n",
        "        self.relu = nn.ReLU()\n",
        "        self.dropout = nn.Dropout(0.5)  # 添加Dropout，丟棄50%的神經元\n",
        "        self.fc2 = nn.Linear(128, 10)\n",
        "\n",
        "    def forward(self, x):\n",
        "        x = self.flatten(x)\n",
        "        x = self.fc1(x)\n",
        "        x = self.relu(x)\n",
        "        x = self.dropout(x)  # 在這一層後應用Dropout\n",
        "        x = self.fc2(x)\n",
        "        return x\n",
        "\n",
        "model = ANNWithDropout()\n"
      ],
      "metadata": {
        "id": "V5USAEC0QTfQ"
      },
      "execution_count": 4,
      "outputs": []
    },
    {
      "cell_type": "markdown",
      "source": [
        "## KFold with ANNWithDropout"
      ],
      "metadata": {
        "id": "KwdLGhu1QZUW"
      }
    },
    {
      "cell_type": "code",
      "source": [
        "kf = KFold(n_splits=num_folds, shuffle=True, random_state=42)\n",
        "fold = 1\n",
        "\n",
        "for train_indices, val_indices in kf.split(mnist_dataset):\n",
        "    print(f\"Fold {fold}\")\n",
        "    train_sampler = torch.utils.data.SubsetRandomSampler(train_indices)\n",
        "    val_sampler = torch.utils.data.SubsetRandomSampler(val_indices)\n",
        "\n",
        "    train_loader = torch.utils.data.DataLoader(dataset=mnist_dataset, batch_size=batch_size, sampler=train_sampler)\n",
        "    val_loader = torch.utils.data.DataLoader(dataset=mnist_dataset, batch_size=batch_size, sampler=val_sampler)\n",
        "\n",
        "    model = ANNWithDropout()\n",
        "    criterion = nn.CrossEntropyLoss()\n",
        "    optimizer = torch.optim.Adam(model.parameters(), lr=learning_rate)\n",
        "\n",
        "    for epoch in range(num_epochs):\n",
        "        model.train()\n",
        "        for images, labels in train_loader:\n",
        "            optimizer.zero_grad()\n",
        "            outputs = model(images)\n",
        "            loss = criterion(outputs, labels)\n",
        "            loss.backward()\n",
        "            optimizer.step()\n",
        "\n",
        "        model.eval()\n",
        "        correct = 0\n",
        "        total = 0\n",
        "        with torch.no_grad():\n",
        "            for images, labels in val_loader:\n",
        "                outputs = model(images)\n",
        "                _, predicted = torch.max(outputs.data, 1)\n",
        "                total += labels.size(0)\n",
        "                correct += (predicted == labels).sum().item()\n",
        "\n",
        "        accuracy = correct / total\n",
        "        print(f'Epoch [{epoch+1}/{num_epochs}] - Validation Accuracy: {accuracy:.4f}')\n",
        "\n",
        "    fold += 1"
      ],
      "metadata": {
        "id": "JRhYcDXYQcNG"
      },
      "execution_count": null,
      "outputs": []
    },
    {
      "cell_type": "code",
      "source": [],
      "metadata": {
        "id": "aOGfvTRZQfo-"
      },
      "execution_count": null,
      "outputs": []
    }
  ]
}