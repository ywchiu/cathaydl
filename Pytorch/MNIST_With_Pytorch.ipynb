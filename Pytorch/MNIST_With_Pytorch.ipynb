{
 "cells": [
  {
   "cell_type": "markdown",
   "metadata": {
    "id": "vvTZHRmTsnEh"
   },
   "source": [
    "## 載入套件"
   ]
  },
  {
   "cell_type": "code",
   "execution_count": 1,
   "metadata": {
    "id": "Ayk1rVoFsaoc"
   },
   "outputs": [],
   "source": [
    "import torch\n",
    "import torch.nn as nn\n",
    "import torchvision\n",
    "import torchvision.transforms as transforms"
   ]
  },
  {
   "cell_type": "markdown",
   "metadata": {
    "id": "MdjTP4Xnspgh"
   },
   "source": [
    "## 資料預處理"
   ]
  },
  {
   "cell_type": "code",
   "execution_count": 3,
   "metadata": {
    "id": "f3B03zaXsSiu"
   },
   "outputs": [],
   "source": [
    "# 超參數\n",
    "num_epochs = 5\n",
    "batch_size = 100\n",
    "learning_rate = 0.001\n",
    "\n",
    "\n",
    "# MNIST數據預處理\n",
    "transform = transforms.Compose([transforms.ToTensor()])\n",
    "\n",
    "train_dataset = torchvision.datasets.MNIST(root='./data', train=True, transform=transform, download=True)\n",
    "train_loader = torch.utils.data.DataLoader(dataset=train_dataset, batch_size=batch_size, shuffle=True)\n",
    "\n",
    "test_dataset = torchvision.datasets.MNIST(root='./data', train=False, transform=transform)\n",
    "test_loader = torch.utils.data.DataLoader(dataset=test_dataset, batch_size=batch_size, shuffle=False)"
   ]
  },
  {
   "cell_type": "markdown",
   "metadata": {
    "id": "LbC_86B6sthU"
   },
   "source": [
    "## 建立 ANN"
   ]
  },
  {
   "cell_type": "code",
   "execution_count": 4,
   "metadata": {
    "id": "kX5cerfcseaD"
   },
   "outputs": [],
   "source": [
    "class ANN(nn.Module):\n",
    "    def __init__(self):\n",
    "        super(ANN, self).__init__()\n",
    "        self.flatten = nn.Flatten()\n",
    "        self.fc1 = nn.Linear(28 * 28, 128)\n",
    "        self.relu = nn.ReLU()\n",
    "        self.fc2 = nn.Linear(128, 10)\n",
    "\n",
    "    def forward(self, x):\n",
    "        x = self.flatten(x)\n",
    "        x = self.fc1(x)\n",
    "        x = self.relu(x)\n",
    "        x = self.fc2(x)\n",
    "        return x\n",
    "\n",
    "model = ANN()"
   ]
  },
  {
   "cell_type": "markdown",
   "metadata": {
    "id": "fhXiTzxfsxr9"
   },
   "source": [
    "## 定義損失函數和優化器"
   ]
  },
  {
   "cell_type": "code",
   "execution_count": 5,
   "metadata": {
    "id": "B1nusu2JsgEE"
   },
   "outputs": [],
   "source": [
    "criterion = nn.CrossEntropyLoss()\n",
    "optimizer = torch.optim.Adam(model.parameters(), lr=learning_rate)"
   ]
  },
  {
   "cell_type": "markdown",
   "metadata": {
    "id": "NY_d1CSRs0Sp"
   },
   "source": [
    "## 訓練模型"
   ]
  },
  {
   "cell_type": "code",
   "execution_count": 6,
   "metadata": {
    "colab": {
     "base_uri": "https://localhost:8080/"
    },
    "id": "spysIAePsixB",
    "outputId": "88d9af68-4102-476f-c20f-93a943a68f3a"
   },
   "outputs": [
    {
     "name": "stdout",
     "output_type": "stream",
     "text": [
      "Epoch [1/5], Step [100/600], Loss: 0.3736\n",
      "Epoch [1/5], Step [200/600], Loss: 0.3902\n",
      "Epoch [1/5], Step [300/600], Loss: 0.2345\n",
      "Epoch [1/5], Step [400/600], Loss: 0.2422\n",
      "Epoch [1/5], Step [500/600], Loss: 0.3480\n",
      "Epoch [1/5], Step [600/600], Loss: 0.1780\n",
      "Epoch [2/5], Step [100/600], Loss: 0.2263\n",
      "Epoch [2/5], Step [200/600], Loss: 0.2999\n",
      "Epoch [2/5], Step [300/600], Loss: 0.1557\n",
      "Epoch [2/5], Step [400/600], Loss: 0.1915\n",
      "Epoch [2/5], Step [500/600], Loss: 0.2178\n",
      "Epoch [2/5], Step [600/600], Loss: 0.0827\n",
      "Epoch [3/5], Step [100/600], Loss: 0.1242\n",
      "Epoch [3/5], Step [200/600], Loss: 0.1545\n",
      "Epoch [3/5], Step [300/600], Loss: 0.1597\n",
      "Epoch [3/5], Step [400/600], Loss: 0.0766\n",
      "Epoch [3/5], Step [500/600], Loss: 0.1405\n",
      "Epoch [3/5], Step [600/600], Loss: 0.0907\n",
      "Epoch [4/5], Step [100/600], Loss: 0.0671\n",
      "Epoch [4/5], Step [200/600], Loss: 0.0689\n",
      "Epoch [4/5], Step [300/600], Loss: 0.0868\n",
      "Epoch [4/5], Step [400/600], Loss: 0.0641\n",
      "Epoch [4/5], Step [500/600], Loss: 0.0602\n",
      "Epoch [4/5], Step [600/600], Loss: 0.0955\n",
      "Epoch [5/5], Step [100/600], Loss: 0.0505\n",
      "Epoch [5/5], Step [200/600], Loss: 0.1307\n",
      "Epoch [5/5], Step [300/600], Loss: 0.1167\n",
      "Epoch [5/5], Step [400/600], Loss: 0.1268\n",
      "Epoch [5/5], Step [500/600], Loss: 0.0462\n",
      "Epoch [5/5], Step [600/600], Loss: 0.0752\n",
      "訓練完成\n"
     ]
    }
   ],
   "source": [
    "total_step = len(train_loader)\n",
    "for epoch in range(num_epochs):\n",
    "    for i, (images, labels) in enumerate(train_loader):\n",
    "        images = images\n",
    "        labels = labels\n",
    "\n",
    "        # 前向傳播\n",
    "        outputs = model(images)\n",
    "        loss = criterion(outputs, labels)\n",
    "\n",
    "        # 反向傳播和優化\n",
    "        optimizer.zero_grad()\n",
    "        loss.backward()\n",
    "        optimizer.step()\n",
    "\n",
    "        if (i+1) % 100 == 0:\n",
    "            print(f'Epoch [{epoch+1}/{num_epochs}], Step [{i+1}/{total_step}], Loss: {loss.item():.4f}')\n",
    "\n",
    "print('訓練完成')"
   ]
  },
  {
   "cell_type": "markdown",
   "metadata": {
    "id": "SD4JcAwIs20o"
   },
   "source": [
    "## 評估模型"
   ]
  },
  {
   "cell_type": "code",
   "execution_count": 7,
   "metadata": {
    "colab": {
     "base_uri": "https://localhost:8080/"
    },
    "id": "WLmYcn2HsjyH",
    "outputId": "a61d0311-1927-46d1-a884-77fc8032a8a9"
   },
   "outputs": [
    {
     "name": "stdout",
     "output_type": "stream",
     "text": [
      "測試準確率：97.17%\n"
     ]
    }
   ],
   "source": [
    "model.eval()\n",
    "with torch.no_grad():\n",
    "    correct = 0\n",
    "    total = 0\n",
    "    for images, labels in test_loader:\n",
    "        images = images\n",
    "        labels = labels\n",
    "        outputs = model(images)\n",
    "        _, predicted = torch.max(outputs.data, 1)\n",
    "        total += labels.size(0)\n",
    "        correct += (predicted == labels).sum().item()\n",
    "\n",
    "    print(f'測試準確率：{100 * correct / total:.2f}%')\n"
   ]
  },
  {
   "cell_type": "markdown",
   "metadata": {
    "id": "EJ-x6Nd9OM30"
   },
   "source": [
    "## 將模型載入 GPU"
   ]
  },
  {
   "cell_type": "code",
   "execution_count": null,
   "metadata": {
    "id": "mmM6Lb5hOObT"
   },
   "outputs": [],
   "source": [
    "device = torch.device('cuda' if torch.cuda.is_available() else 'cpu')\n",
    "model.to(device)\n",
    "X_train_tensor = X_train_tensor.to(device)\n",
    "y_train_tensor = y_train_tensor.to(device)\n",
    "X_test_tensor = X_test_tensor.to(device)\n",
    "y_test_tensor = y_test_tensor.to(device)\n"
   ]
  },
  {
   "cell_type": "code",
   "execution_count": null,
   "metadata": {
    "id": "TSynNkyVOO30"
   },
   "outputs": [],
   "source": []
  }
 ],
 "metadata": {
  "colab": {
   "provenance": []
  },
  "kernelspec": {
   "display_name": "Python 3 (ipykernel)",
   "language": "python",
   "name": "python3"
  },
  "language_info": {
   "codemirror_mode": {
    "name": "ipython",
    "version": 3
   },
   "file_extension": ".py",
   "mimetype": "text/x-python",
   "name": "python",
   "nbconvert_exporter": "python",
   "pygments_lexer": "ipython3",
   "version": "3.8.10"
  }
 },
 "nbformat": 4,
 "nbformat_minor": 1
}
