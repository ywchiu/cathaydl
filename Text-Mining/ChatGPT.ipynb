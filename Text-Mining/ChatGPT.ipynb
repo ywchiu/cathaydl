{
  "nbformat": 4,
  "nbformat_minor": 0,
  "metadata": {
    "colab": {
      "provenance": []
    },
    "kernelspec": {
      "name": "python3",
      "display_name": "Python 3"
    },
    "language_info": {
      "name": "python"
    }
  },
  "cells": [
    {
      "cell_type": "markdown",
      "source": [
        "## ChatGPT"
      ],
      "metadata": {
        "id": "vS-kLr71bOzT"
      }
    },
    {
      "cell_type": "code",
      "source": [
        "! pip install openai"
      ],
      "metadata": {
        "colab": {
          "base_uri": "https://localhost:8080/"
        },
        "id": "qhEv-YjMbwDH",
        "outputId": "fb8f5399-4dc7-49d7-98fb-d7c1bbb6f959"
      },
      "execution_count": null,
      "outputs": [
        {
          "output_type": "stream",
          "name": "stdout",
          "text": [
            "Looking in indexes: https://pypi.org/simple, https://us-python.pkg.dev/colab-wheels/public/simple/\n",
            "Collecting openai\n",
            "  Downloading openai-0.27.4-py3-none-any.whl (70 kB)\n",
            "\u001b[2K     \u001b[90m━━━━━━━━━━━━━━━━━━━━━━━━━━━━━━━━━━━━━━━━\u001b[0m \u001b[32m70.3/70.3 kB\u001b[0m \u001b[31m1.6 MB/s\u001b[0m eta \u001b[36m0:00:00\u001b[0m\n",
            "\u001b[?25hRequirement already satisfied: tqdm in /usr/local/lib/python3.9/dist-packages (from openai) (4.65.0)\n",
            "Collecting aiohttp\n",
            "  Downloading aiohttp-3.8.4-cp39-cp39-manylinux_2_17_x86_64.manylinux2014_x86_64.whl (1.0 MB)\n",
            "\u001b[2K     \u001b[90m━━━━━━━━━━━━━━━━━━━━━━━━━━━━━━━━━━━━━━━━\u001b[0m \u001b[32m1.0/1.0 MB\u001b[0m \u001b[31m39.3 MB/s\u001b[0m eta \u001b[36m0:00:00\u001b[0m\n",
            "\u001b[?25hRequirement already satisfied: requests>=2.20 in /usr/local/lib/python3.9/dist-packages (from openai) (2.27.1)\n",
            "Requirement already satisfied: idna<4,>=2.5 in /usr/local/lib/python3.9/dist-packages (from requests>=2.20->openai) (3.4)\n",
            "Requirement already satisfied: urllib3<1.27,>=1.21.1 in /usr/local/lib/python3.9/dist-packages (from requests>=2.20->openai) (1.26.15)\n",
            "Requirement already satisfied: certifi>=2017.4.17 in /usr/local/lib/python3.9/dist-packages (from requests>=2.20->openai) (2022.12.7)\n",
            "Requirement already satisfied: charset-normalizer~=2.0.0 in /usr/local/lib/python3.9/dist-packages (from requests>=2.20->openai) (2.0.12)\n",
            "Collecting frozenlist>=1.1.1\n",
            "  Downloading frozenlist-1.3.3-cp39-cp39-manylinux_2_5_x86_64.manylinux1_x86_64.manylinux_2_17_x86_64.manylinux2014_x86_64.whl (158 kB)\n",
            "\u001b[2K     \u001b[90m━━━━━━━━━━━━━━━━━━━━━━━━━━━━━━━━━━━━━━\u001b[0m \u001b[32m158.8/158.8 kB\u001b[0m \u001b[31m16.6 MB/s\u001b[0m eta \u001b[36m0:00:00\u001b[0m\n",
            "\u001b[?25hCollecting yarl<2.0,>=1.0\n",
            "  Downloading yarl-1.8.2-cp39-cp39-manylinux_2_17_x86_64.manylinux2014_x86_64.whl (264 kB)\n",
            "\u001b[2K     \u001b[90m━━━━━━━━━━━━━━━━━━━━━━━━━━━━━━━━━━━━━━\u001b[0m \u001b[32m264.6/264.6 kB\u001b[0m \u001b[31m22.1 MB/s\u001b[0m eta \u001b[36m0:00:00\u001b[0m\n",
            "\u001b[?25hCollecting multidict<7.0,>=4.5\n",
            "  Downloading multidict-6.0.4-cp39-cp39-manylinux_2_17_x86_64.manylinux2014_x86_64.whl (114 kB)\n",
            "\u001b[2K     \u001b[90m━━━━━━━━━━━━━━━━━━━━━━━━━━━━━━━━━━━━━━\u001b[0m \u001b[32m114.2/114.2 kB\u001b[0m \u001b[31m13.0 MB/s\u001b[0m eta \u001b[36m0:00:00\u001b[0m\n",
            "\u001b[?25hRequirement already satisfied: attrs>=17.3.0 in /usr/local/lib/python3.9/dist-packages (from aiohttp->openai) (22.2.0)\n",
            "Collecting aiosignal>=1.1.2\n",
            "  Downloading aiosignal-1.3.1-py3-none-any.whl (7.6 kB)\n",
            "Collecting async-timeout<5.0,>=4.0.0a3\n",
            "  Downloading async_timeout-4.0.2-py3-none-any.whl (5.8 kB)\n",
            "Installing collected packages: multidict, frozenlist, async-timeout, yarl, aiosignal, aiohttp, openai\n",
            "Successfully installed aiohttp-3.8.4 aiosignal-1.3.1 async-timeout-4.0.2 frozenlist-1.3.3 multidict-6.0.4 openai-0.27.4 yarl-1.8.2\n"
          ]
        }
      ]
    },
    {
      "cell_type": "code",
      "execution_count": null,
      "metadata": {
        "id": "517fcKAqaMp-"
      },
      "outputs": [],
      "source": [
        "import os\n",
        "import openai\n",
        "TOKEN = 'sk-'\n",
        "openai.api_key = TOKEN\n",
        "res = openai.Completion.create(\n",
        " model=\"text-davinci-003\",\n",
        " prompt=\"請介紹什麼是 ChatGPT\",\n",
        " max_tokens = 1000\n",
        ")\n",
        "\n",
        "print(res.choices[0].text)\n"
      ]
    },
    {
      "cell_type": "code",
      "source": [
        "script = \"\"\"\n",
        "User: 請幫我新上架的人工智慧語音轉文字雲服務，寫個100字介紹文\n",
        "\n",
        "AI: 人工智慧語音轉文字雲服務，專為企業客戶而生。服務利用即時技術將每一個語音檔案轉換成文字，可支援多種語言，能夠提供不受限的內容轉換，讓你的工作效率最大化。此外，我們的服務不受網路速度限制，功能強大而易於使用，可根據個性需求定制解決方案。我們的服務具有高精度的語音轉換能力，可支援多種非常多的口音和語境，實現無縫接軌的文字服務和轉換。總之，沒有比人工智慧語音轉文字雲服務更好的方式來轉換文字了。\n",
        "\n",
        "User: 請根據介紹文幫我產生一個朗朗上口的標題\n",
        "\"\"\"\n",
        "res = openai.Completion.create(\n",
        " model=\"text-davinci-003\",\n",
        " prompt=script,\n",
        " max_tokens = 1000\n",
        ")\n",
        "\n",
        "print(res.choices[0].text)\n",
        "\n"
      ],
      "metadata": {
        "id": "jb2EwYlEbbDl"
      },
      "execution_count": null,
      "outputs": []
    },
    {
      "cell_type": "markdown",
      "source": [
        "## LangChain"
      ],
      "metadata": {
        "id": "XjG-aGRYbjY6"
      }
    },
    {
      "cell_type": "code",
      "source": [
        "! pip install langchain"
      ],
      "metadata": {
        "colab": {
          "base_uri": "https://localhost:8080/"
        },
        "id": "qmBaEmjcbqB7",
        "outputId": "2b42d9d7-75b0-45c8-dcd7-547463cb7f00"
      },
      "execution_count": null,
      "outputs": [
        {
          "output_type": "stream",
          "name": "stdout",
          "text": [
            "Looking in indexes: https://pypi.org/simple, https://us-python.pkg.dev/colab-wheels/public/simple/\n",
            "Collecting langchain\n",
            "  Downloading langchain-0.0.139-py3-none-any.whl (530 kB)\n",
            "\u001b[2K     \u001b[90m━━━━━━━━━━━━━━━━━━━━━━━━━━━━━━━━━━━━━━\u001b[0m \u001b[32m530.5/530.5 kB\u001b[0m \u001b[31m29.6 MB/s\u001b[0m eta \u001b[36m0:00:00\u001b[0m\n",
            "\u001b[?25hRequirement already satisfied: PyYAML>=5.4.1 in /usr/local/lib/python3.9/dist-packages (from langchain) (6.0)\n",
            "Requirement already satisfied: tenacity<9.0.0,>=8.1.0 in /usr/local/lib/python3.9/dist-packages (from langchain) (8.2.2)\n",
            "Collecting SQLAlchemy<2,>=1\n",
            "  Downloading SQLAlchemy-1.4.47-cp39-cp39-manylinux_2_5_x86_64.manylinux1_x86_64.manylinux_2_17_x86_64.manylinux2014_x86_64.whl (1.6 MB)\n",
            "\u001b[2K     \u001b[90m━━━━━━━━━━━━━━━━━━━━━━━━━━━━━━━━━━━━━━━━\u001b[0m \u001b[32m1.6/1.6 MB\u001b[0m \u001b[31m72.0 MB/s\u001b[0m eta \u001b[36m0:00:00\u001b[0m\n",
            "\u001b[?25hRequirement already satisfied: pydantic<2,>=1 in /usr/local/lib/python3.9/dist-packages (from langchain) (1.10.7)\n",
            "Collecting dataclasses-json<0.6.0,>=0.5.7\n",
            "  Downloading dataclasses_json-0.5.7-py3-none-any.whl (25 kB)\n",
            "Requirement already satisfied: async-timeout<5.0.0,>=4.0.0 in /usr/local/lib/python3.9/dist-packages (from langchain) (4.0.2)\n",
            "Requirement already satisfied: requests<3,>=2 in /usr/local/lib/python3.9/dist-packages (from langchain) (2.27.1)\n",
            "Requirement already satisfied: aiohttp<4.0.0,>=3.8.3 in /usr/local/lib/python3.9/dist-packages (from langchain) (3.8.4)\n",
            "Requirement already satisfied: numpy<2,>=1 in /usr/local/lib/python3.9/dist-packages (from langchain) (1.22.4)\n",
            "Collecting openapi-schema-pydantic<2.0,>=1.2\n",
            "  Downloading openapi_schema_pydantic-1.2.4-py3-none-any.whl (90 kB)\n",
            "\u001b[2K     \u001b[90m━━━━━━━━━━━━━━━━━━━━━━━━━━━━━━━━━━━━━━━━\u001b[0m \u001b[32m90.0/90.0 kB\u001b[0m \u001b[31m10.1 MB/s\u001b[0m eta \u001b[36m0:00:00\u001b[0m\n",
            "\u001b[?25hCollecting gptcache>=0.1.7\n",
            "  Downloading gptcache-0.1.10-py3-none-any.whl (44 kB)\n",
            "\u001b[2K     \u001b[90m━━━━━━━━━━━━━━━━━━━━━━━━━━━━━━━━━━━━━━━━\u001b[0m \u001b[32m44.9/44.9 kB\u001b[0m \u001b[31m5.6 MB/s\u001b[0m eta \u001b[36m0:00:00\u001b[0m\n",
            "\u001b[?25hRequirement already satisfied: aiosignal>=1.1.2 in /usr/local/lib/python3.9/dist-packages (from aiohttp<4.0.0,>=3.8.3->langchain) (1.3.1)\n",
            "Requirement already satisfied: yarl<2.0,>=1.0 in /usr/local/lib/python3.9/dist-packages (from aiohttp<4.0.0,>=3.8.3->langchain) (1.8.2)\n",
            "Requirement already satisfied: attrs>=17.3.0 in /usr/local/lib/python3.9/dist-packages (from aiohttp<4.0.0,>=3.8.3->langchain) (22.2.0)\n",
            "Requirement already satisfied: frozenlist>=1.1.1 in /usr/local/lib/python3.9/dist-packages (from aiohttp<4.0.0,>=3.8.3->langchain) (1.3.3)\n",
            "Requirement already satisfied: multidict<7.0,>=4.5 in /usr/local/lib/python3.9/dist-packages (from aiohttp<4.0.0,>=3.8.3->langchain) (6.0.4)\n",
            "Requirement already satisfied: charset-normalizer<4.0,>=2.0 in /usr/local/lib/python3.9/dist-packages (from aiohttp<4.0.0,>=3.8.3->langchain) (2.0.12)\n",
            "Collecting marshmallow-enum<2.0.0,>=1.5.1\n",
            "  Downloading marshmallow_enum-1.5.1-py2.py3-none-any.whl (4.2 kB)\n",
            "Collecting typing-inspect>=0.4.0\n",
            "  Downloading typing_inspect-0.8.0-py3-none-any.whl (8.7 kB)\n",
            "Collecting marshmallow<4.0.0,>=3.3.0\n",
            "  Downloading marshmallow-3.19.0-py3-none-any.whl (49 kB)\n",
            "\u001b[2K     \u001b[90m━━━━━━━━━━━━━━━━━━━━━━━━━━━━━━━━━━━━━━━━\u001b[0m \u001b[32m49.1/49.1 kB\u001b[0m \u001b[31m6.1 MB/s\u001b[0m eta \u001b[36m0:00:00\u001b[0m\n",
            "\u001b[?25hRequirement already satisfied: cachetools in /usr/local/lib/python3.9/dist-packages (from gptcache>=0.1.7->langchain) (5.3.0)\n",
            "Requirement already satisfied: openai in /usr/local/lib/python3.9/dist-packages (from gptcache>=0.1.7->langchain) (0.27.4)\n",
            "Requirement already satisfied: typing-extensions>=4.2.0 in /usr/local/lib/python3.9/dist-packages (from pydantic<2,>=1->langchain) (4.5.0)\n",
            "Requirement already satisfied: idna<4,>=2.5 in /usr/local/lib/python3.9/dist-packages (from requests<3,>=2->langchain) (3.4)\n",
            "Requirement already satisfied: urllib3<1.27,>=1.21.1 in /usr/local/lib/python3.9/dist-packages (from requests<3,>=2->langchain) (1.26.15)\n",
            "Requirement already satisfied: certifi>=2017.4.17 in /usr/local/lib/python3.9/dist-packages (from requests<3,>=2->langchain) (2022.12.7)\n",
            "Requirement already satisfied: greenlet!=0.4.17 in /usr/local/lib/python3.9/dist-packages (from SQLAlchemy<2,>=1->langchain) (2.0.2)\n",
            "Requirement already satisfied: packaging>=17.0 in /usr/local/lib/python3.9/dist-packages (from marshmallow<4.0.0,>=3.3.0->dataclasses-json<0.6.0,>=0.5.7->langchain) (23.0)\n",
            "Collecting mypy-extensions>=0.3.0\n",
            "  Downloading mypy_extensions-1.0.0-py3-none-any.whl (4.7 kB)\n",
            "Requirement already satisfied: tqdm in /usr/local/lib/python3.9/dist-packages (from openai->gptcache>=0.1.7->langchain) (4.65.0)\n",
            "Installing collected packages: SQLAlchemy, mypy-extensions, marshmallow, typing-inspect, openapi-schema-pydantic, marshmallow-enum, dataclasses-json, gptcache, langchain\n",
            "  Attempting uninstall: SQLAlchemy\n",
            "    Found existing installation: SQLAlchemy 2.0.9\n",
            "    Uninstalling SQLAlchemy-2.0.9:\n",
            "      Successfully uninstalled SQLAlchemy-2.0.9\n",
            "Successfully installed SQLAlchemy-1.4.47 dataclasses-json-0.5.7 gptcache-0.1.10 langchain-0.0.139 marshmallow-3.19.0 marshmallow-enum-1.5.1 mypy-extensions-1.0.0 openapi-schema-pydantic-1.2.4 typing-inspect-0.8.0\n"
          ]
        }
      ]
    },
    {
      "cell_type": "code",
      "source": [
        "from langchain.chat_models import ChatOpenAI\n",
        "from langchain.prompts.chat import (\n",
        "  ChatPromptTemplate,\n",
        "  SystemMessagePromptTemplate,\n",
        "  HumanMessagePromptTemplate,\n",
        ")\n",
        "\n",
        "chat = ChatOpenAI(temperature=0, openai_api_key = TOKEN)\n",
        "\n",
        "template=\" 請幫我新上架的{product}，寫個100字介紹文\"\n",
        "system_message_prompt = SystemMessagePromptTemplate.from_template(template)\n",
        "human_template=\"請根據介紹文幫我產生一個朗朗上口的標題\"\n",
        "human_message_prompt = HumanMessagePromptTemplate.from_template(human_template)\n",
        "chat_prompt = ChatPromptTemplate.from_messages([system_message_prompt, human_message_prompt])\n",
        "\n",
        "chat(chat_prompt.format_prompt(product=\"人工智慧語音轉文字雲服務\").to_messages())\n",
        "\n"
      ],
      "metadata": {
        "id": "7WtdCX9wbhK4"
      },
      "execution_count": null,
      "outputs": []
    },
    {
      "cell_type": "code",
      "source": [
        "\n",
        "product = \"人工智慧語音轉文字雲服務\"\n",
        "\n",
        "completion = openai.ChatCompletion.create(\n",
        " model=\"gpt-3.5-turbo\",\n",
        " messages=[\n",
        "  {\"role\": \"user\", \"content\": f\"請幫我新上架的{product}，寫個100字介紹文\"},\n",
        "  {\"role\": \"assistant\", \"content\": \"我們的新上架人工智慧語音轉文字雲服務，是一種高效、方便的文字轉換工具，可以將人類發出的語音轉換為文字。使用者只需錄製自己的語音，上傳至平台，即可快速獲得轉換後的文字內容。本服務採用了最先進的語音辨識技術，能夠準確辨識各種不同語言和口音，支援多種檔案格式。無論是研究工作還是商務會議，都能夠有效提高工作效率，節省大量時間。歡迎大家體驗這一嶄新且實用的服務！\"},\n",
        "  {\"role\": \"user\", \"content\": \"請根據介紹文幫我產生一個朗朗上口的標題\"}]\n",
        ")\n",
        "print(completion.choices[0].message.content)\n"
      ],
      "metadata": {
        "id": "XtIeTMIBb8W1"
      },
      "execution_count": null,
      "outputs": []
    },
    {
      "cell_type": "markdown",
      "source": [
        "## ChatGPT 與語意分析"
      ],
      "metadata": {
        "id": "4swX-zpWcBe-"
      }
    },
    {
      "cell_type": "code",
      "source": [
        "# 斷字斷詞\n",
        "completion = openai.ChatCompletion.create(\n",
        " model=\"gpt-3.5-turbo\",\n",
        " messages=[\n",
        "  {\"role\": \"system\", \"content\": \"請協助我為以下文句斷詞\"},\n",
        "  {\"role\": \"user\", \"content\": \"我們新上架的人工智慧語音轉文字雲服務，是一種高效、方便的文字轉換工具，可以將人類發出的語音轉換為文字。\"}]\n",
        ")\n",
        "\n",
        "print(completion.choices[0].message.content)"
      ],
      "metadata": {
        "id": "6_jPNpSXcDAB"
      },
      "execution_count": null,
      "outputs": []
    },
    {
      "cell_type": "code",
      "source": [
        "# 詞性標註\n",
        "completion = openai.ChatCompletion.create(\n",
        " model=\"gpt-3.5-turbo\",\n",
        " messages=[\n",
        "  {\"role\": \"system\", \"content\": \"請協助我為以下文句標注詞性\"},\n",
        "  {\"role\": \"user\", \"content\": \"我們新上架的人工智慧語音轉文字雲服務，是一種高效、方便的文字轉換工具，可以將人類發出的語音轉換為文字。\"}]\n",
        ")"
      ],
      "metadata": {
        "id": "9vHOSr_1cwET"
      },
      "execution_count": null,
      "outputs": []
    },
    {
      "cell_type": "code",
      "source": [
        "# 命名實體識別\n",
        "completion = openai.ChatCompletion.create(\n",
        " model=\"gpt-3.5-turbo\",\n",
        " messages=[\n",
        "  {\"role\": \"system\", \"content\": \"請協助我為列出文章中的信用卡名稱，並且列出相關優惠，請用 JSON 回傳結果\"},\n",
        "  {\"role\": \"user\", \"content\": input_article}]\n",
        ")"
      ],
      "metadata": {
        "id": "LrVXQqh8cxci"
      },
      "execution_count": null,
      "outputs": []
    },
    {
      "cell_type": "code",
      "source": [
        "# 正負向情感分析\n",
        "completion = openai.ChatCompletion.create(\n",
        " model=\"gpt-3.5-turbo\",\n",
        " messages=[\n",
        "  {\"role\": \"system\", \"content\": \"你現在是個做情感分析的機器人，請為用正向、中立、負向三種情緒擇一標記文章的情緒\"},\n",
        "  {\"role\": \"user\", \"content\":input_article}]\n",
        ")"
      ],
      "metadata": {
        "id": "rh8Y6D5acyq8"
      },
      "execution_count": null,
      "outputs": []
    },
    {
      "cell_type": "code",
      "source": [
        "# 意見整理\n",
        "completion = openai.ChatCompletion.create(\n",
        " model=\"gpt-3.5-turbo\",\n",
        " messages=[\n",
        "  {\"role\": \"system\", \"content\": \"請協助我摘要尊榮鼎極VISA無限卡的網友回應\"},\n",
        "  {\"role\": \"user\", \"content\": input_article}]\n",
        ")"
      ],
      "metadata": {
        "id": "MeLWmr62czuS"
      },
      "execution_count": null,
      "outputs": []
    },
    {
      "cell_type": "code",
      "source": [
        "# 建立標記函數\n",
        "def chatgpt_ai(system_prompt, input_article):\n",
        " completion = openai.ChatCompletion.create(\n",
        "  model=\"gpt-3.5-turbo\",\n",
        "  messages=[\n",
        "   {\"role\": \"system\", \"content\": system_prompt},\n",
        "   {\"role\": \"user\", \"content\":input_article}]\n",
        " )\n",
        " return completion.choices[0].message.content\n",
        "\n"
      ],
      "metadata": {
        "id": "hP7Ytr81c00b"
      },
      "execution_count": null,
      "outputs": []
    },
    {
      "cell_type": "code",
      "source": [
        "# 標記文章情緒\n",
        "import pandas\n",
        "system_prompt = \"你現在是個做情感分析的機器人，請為用正向、中立、負向三種情緒擇一標記文章的情緒\"\n",
        "data_df = pandas.read_excel('ptt_creditcard.xlsx')\n",
        "data_df['emotion'] = data_df['content'].map(lambda e: chatgpt_ai(system_prompt, e))\n",
        "data_df[['title', 'content', 'emotion']].head()\n"
      ],
      "metadata": {
        "id": "BcXuQCc5c2HE"
      },
      "execution_count": null,
      "outputs": []
    },
    {
      "cell_type": "markdown",
      "source": [
        "## Embedding"
      ],
      "metadata": {
        "id": "bAveN2Wyc7pn"
      }
    },
    {
      "cell_type": "code",
      "source": [
        "# 計算文章 Embedding\n",
        "import numpy as np\n",
        "\n",
        "res = openai.Embedding.create(\n",
        " model=\"text-embedding-ada-002\",\n",
        " input=\"我們新上架的人工智慧語音轉文字雲服務，是一種高效、方便的文字轉換工具，可以將人類發出的語音轉換為文字。\"\n",
        ")\n",
        "\n",
        "np.array(res.data[0].embedding)"
      ],
      "metadata": {
        "id": "BKjvs_F4c48c"
      },
      "execution_count": null,
      "outputs": []
    },
    {
      "cell_type": "code",
      "source": [
        "# 利用 Embedding 比較文章相似度\n",
        "def get_embedding(input_sentence):\n",
        " res = openai.Embedding.create(\n",
        "  model=\"text-embedding-ada-002\",\n",
        "  input= input_sentence\n",
        " )\n",
        " return np.array(res.data[0].embedding)\n",
        "\n",
        "from sklearn.metrics.pairwise import cosine_similarity\n",
        "vec_list = []\n",
        "for sentence in ['樹上的蘋果又大又紅，看起來很好吃’,\n",
        "                         'iphone14 是您聖誕節不可以錯過的最佳禮物選擇’,\n",
        "                         '蘋果公司執行長對iphone新機發表聲明']:\n",
        " vec = get_embedding(sentence)\n",
        " vec_list.append(vec)\n",
        "\n",
        "m = np.vstack(vec_list)\n",
        "cosine_similarity(m)"
      ],
      "metadata": {
        "id": "pbKNlWqAc9KR"
      },
      "execution_count": null,
      "outputs": []
    },
    {
      "cell_type": "code",
      "source": [
        "# 利用 Embedding 分類\n",
        "\n",
        "import pandas\n",
        "movies = pandas.read_excel('yahoo_movie.xlsx')\n",
        "movies = movies[movies['status'] != 'soso']\n",
        "\n",
        "status_ary = []\n",
        "embedding_ary = []\n",
        "for idx, movie in movies.iterrows():\n",
        " status_ary.append(movie.get('status'))\n",
        " embedding_ary.append(get_embedding(movie.get('content')))\n",
        "\n",
        "\n",
        "from sklearn.model_selection import train_test_split\n",
        "X = np.vstack(embedding_ary)\n",
        "train_X, test_X, train_Y, test_Y = train_test_split(X, status_ary, test_size = 0.3, random_state = 42)\n",
        "\n",
        "from sklearn.svm import SVC\n",
        "clf = SVC(kernel = 'rbf')\n",
        "clf.fit(train_X, train_Y)\n",
        "\n",
        "from sklearn.metrics import accuracy_score, confusion_matrix\n",
        "\n",
        "# 計算準確率\n",
        "accuracy_score(test_Y, predicted)\n",
        "\n",
        "\n",
        "# 混淆矩陣\n",
        "confusion_matrix(test_Y, predicted)\n",
        "\n",
        "\n"
      ],
      "metadata": {
        "id": "JDkuJwoJdBMs"
      },
      "execution_count": null,
      "outputs": []
    }
  ]
}