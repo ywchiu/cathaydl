{
  "nbformat": 4,
  "nbformat_minor": 0,
  "metadata": {
    "colab": {
      "provenance": []
    },
    "kernelspec": {
      "name": "python3",
      "display_name": "Python 3"
    },
    "language_info": {
      "name": "python"
    }
  },
  "cells": [
    {
      "cell_type": "markdown",
      "source": [
        "## Word2Vec"
      ],
      "metadata": {
        "id": "EJr205pmWVqz"
      }
    },
    {
      "cell_type": "code",
      "execution_count": null,
      "metadata": {
        "id": "LJHEx9YVWHVN"
      },
      "outputs": [],
      "source": [
        "import pandas\n",
        "df = pandas.read_excel('https://raw.githubusercontent.com/ywchiu/sns_mining/master/data/yahoo_movie.xlsx', index_col=0)\n",
        ""
      ]
    },
    {
      "cell_type": "code",
      "source": [
        "\n",
        "import jieba\n",
        "corpus = []\n",
        "for e in df['content'].tolist():\n",
        "    corpus.append(list(jieba.cut(e)))"
      ],
      "metadata": {
        "colab": {
          "base_uri": "https://localhost:8080/"
        },
        "id": "dEUCrMSxWZBk",
        "outputId": "1ba2d7cf-be77-4a0b-9c03-9dffa6394e64"
      },
      "execution_count": null,
      "outputs": [
        {
          "output_type": "stream",
          "name": "stderr",
          "text": [
            "Building prefix dict from the default dictionary ...\n",
            "DEBUG:jieba:Building prefix dict from the default dictionary ...\n",
            "Dumping model to file cache /tmp/jieba.cache\n",
            "DEBUG:jieba:Dumping model to file cache /tmp/jieba.cache\n",
            "Loading model cost 1.890 seconds.\n",
            "DEBUG:jieba:Loading model cost 1.890 seconds.\n",
            "Prefix dict has been built successfully.\n",
            "DEBUG:jieba:Prefix dict has been built successfully.\n"
          ]
        }
      ]
    },
    {
      "cell_type": "code",
      "source": [
        "from gensim.models import word2vec\n",
        "size = 50  # 產生多少維度\n",
        "min_count = 5 # 要算至少出現多少次數的字詞\n",
        "workers = 1 # 使用多少個core 計算, -1 使用所有的core 進行計算\n",
        "window = 10  # 上下文的區間\n",
        "iter = 1000 # 神經網路訓練的迭代數\n",
        "sample = 1e-5 # 取樣的數量\n",
        "\n",
        "model = word2vec.Word2Vec(corpus,\n",
        "                          workers = workers,\n",
        "                          sample = sample,\n",
        "                          vector_size = size,\n",
        "                          min_count=min_count,\n",
        "                          window = window,\n",
        "                          epochs = iter)"
      ],
      "metadata": {
        "id": "7xIH8HlSWbSp"
      },
      "execution_count": null,
      "outputs": []
    },
    {
      "cell_type": "code",
      "source": [
        "for ele in model.wv.key_to_index:\n",
        "  print(ele)"
      ],
      "metadata": {
        "id": "eTZBYtUtWdUi"
      },
      "execution_count": null,
      "outputs": []
    },
    {
      "cell_type": "code",
      "source": [
        "model.wv.most_similar('👍')"
      ],
      "metadata": {
        "colab": {
          "base_uri": "https://localhost:8080/"
        },
        "id": "WFTW4NofXCnv",
        "outputId": "51083b96-6517-49de-c1fc-944910de1e86"
      },
      "execution_count": null,
      "outputs": [
        {
          "output_type": "execute_result",
          "data": {
            "text/plain": [
              "[('star', 0.6806949973106384),\n",
              " ('wars', 0.6485974192619324),\n",
              " ('the', 0.532431960105896),\n",
              " ('水準', 0.5186603665351868),\n",
              " ('a', 0.5169947147369385),\n",
              " ('短評', 0.4569917619228363),\n",
              " ('com', 0.4492340087890625),\n",
              " ('負評', 0.44025713205337524),\n",
              " ('每', 0.43012791872024536),\n",
              " ('商業片', 0.4260213077068329)]"
            ]
          },
          "metadata": {},
          "execution_count": 9
        }
      ]
    },
    {
      "cell_type": "code",
      "source": [
        "model.wv.get_vector('👍')"
      ],
      "metadata": {
        "colab": {
          "base_uri": "https://localhost:8080/"
        },
        "id": "I6g4I7qAXuIL",
        "outputId": "545abddb-8633-4429-d994-bd2fc962095d"
      },
      "execution_count": null,
      "outputs": [
        {
          "output_type": "execute_result",
          "data": {
            "text/plain": [
              "array([-0.8111984 ,  0.7824098 , -0.404319  , -0.30878487, -0.05896171,\n",
              "       -0.7107195 ,  0.37326482, -0.03639407, -0.27496302, -0.9388743 ,\n",
              "       -0.507287  ,  0.00281144,  0.06825916, -0.48068208, -0.00823188,\n",
              "        0.97187495,  0.7206621 ,  1.7579001 , -0.3505318 , -0.7819903 ,\n",
              "        0.04106327,  0.262528  ,  0.01717855, -0.3617978 , -0.49871975,\n",
              "       -0.7581934 ,  0.7616043 , -0.8010093 , -0.3192664 , -0.42065609,\n",
              "        1.0444846 , -0.45980304,  0.29721963, -0.07342824, -0.8796175 ,\n",
              "        0.6161792 ,  1.2005955 ,  0.18912739, -0.1907141 ,  0.26831225,\n",
              "       -0.09707648,  0.48874703,  0.30645916,  0.38452163,  1.5255069 ,\n",
              "        0.8467447 ,  0.9346989 , -0.09029961,  0.9415535 ,  0.484221  ],\n",
              "      dtype=float32)"
            ]
          },
          "metadata": {},
          "execution_count": 10
        }
      ]
    },
    {
      "cell_type": "code",
      "source": [
        "import jieba\n",
        "corpus = []\n",
        "tags = []\n",
        "for idx,rec in df[df['status'].isin(['good', 'bad'])].iterrows():\n",
        "  corpus.append(list(jieba.cut(rec.get('content'))))\n",
        "  tags.append(rec.get('status'))"
      ],
      "metadata": {
        "id": "oyAHqLzhXxX2"
      },
      "execution_count": null,
      "outputs": []
    },
    {
      "cell_type": "code",
      "source": [
        "import numpy as np\n",
        "size = 50\n",
        "cnt = 0\n",
        "vec = np.zeros(size).reshape((1, size))\n",
        "#print(vec.shape)\n",
        "for word in corpus[0]:\n",
        "  try:\n",
        "    #print(model.wv.get_vector(word))\n",
        "    vec += model.wv.get_vector(word)\n",
        "    cnt += 1\n",
        "  except:\n",
        "    pass\n",
        "vec / cnt"
      ],
      "metadata": {
        "colab": {
          "base_uri": "https://localhost:8080/"
        },
        "id": "YtUajNDRX0S9",
        "outputId": "64b39950-374e-4516-cfcf-3cb9c15e493b"
      },
      "execution_count": null,
      "outputs": [
        {
          "output_type": "execute_result",
          "data": {
            "text/plain": [
              "array([[ 0.3560753 ,  0.04139198,  0.31660726,  0.00827647, -0.15414863,\n",
              "         0.49940599,  0.13376611,  0.3330899 , -0.2622231 ,  0.22831564,\n",
              "        -0.43297082, -0.19021252, -0.1367482 , -0.1291772 , -0.29089187,\n",
              "         0.17610502, -0.05112522, -0.54161985,  0.1948148 , -0.48770092,\n",
              "        -0.61635255,  0.09163281,  0.05945749,  0.17196269,  0.57584158,\n",
              "         0.34237506, -0.07874   , -0.37200043, -0.32271495,  0.03633143,\n",
              "        -0.17765051, -0.12541925,  0.30536095,  0.01021841,  0.20397114,\n",
              "         0.32990493,  0.08395853, -0.0181308 ,  0.28003842, -0.408849  ,\n",
              "        -0.31137875, -0.01818421, -0.09850937, -0.17474771,  0.00719527,\n",
              "         0.35448317, -0.35423775, -0.33748701, -0.06146792, -0.24803221]])"
            ]
          },
          "metadata": {},
          "execution_count": 12
        }
      ]
    },
    {
      "cell_type": "code",
      "source": [
        "import numpy as np\n",
        "vecs = []\n",
        "y = []\n",
        "size = 50\n",
        "for tag, s in zip(tags, corpus):\n",
        "    vec = np.zeros(size).reshape((1, size))\n",
        "    cnt = 0\n",
        "    for w in s:\n",
        "        if w in model.wv.key_to_index:\n",
        "            vec += model.wv.get_vector(w)\n",
        "            cnt += 1\n",
        "    if cnt > 0:\n",
        "      vecs.append(vec / cnt)\n",
        "      y.append(tag)"
      ],
      "metadata": {
        "id": "PJIh9LqnX3CO"
      },
      "execution_count": null,
      "outputs": []
    },
    {
      "cell_type": "code",
      "source": [
        "X = np.concatenate(vecs, axis = 0)\n",
        ""
      ],
      "metadata": {
        "id": "UXOSoIzzX5fY"
      },
      "execution_count": null,
      "outputs": []
    },
    {
      "cell_type": "code",
      "source": [
        "X"
      ],
      "metadata": {
        "colab": {
          "base_uri": "https://localhost:8080/"
        },
        "id": "0XN-3ja1YKeM",
        "outputId": "04a5b718-b748-476c-a28d-c30bf85dc638"
      },
      "execution_count": null,
      "outputs": [
        {
          "output_type": "execute_result",
          "data": {
            "text/plain": [
              "array([[ 0.3560753 ,  0.04139198,  0.31660726, ..., -0.33748701,\n",
              "        -0.06146792, -0.24803221],\n",
              "       [ 0.19852904,  0.05250242,  0.43756859, ...,  0.12330433,\n",
              "        -0.03953955, -0.0228153 ],\n",
              "       [ 0.09542537, -0.35680254, -0.48725238, ...,  0.13814829,\n",
              "        -0.06318698, -0.58010768],\n",
              "       ...,\n",
              "       [ 0.40745942,  0.57974166,  0.18223719, ...,  0.93339914,\n",
              "         0.03467985, -0.01167483],\n",
              "       [ 0.19487849,  0.18948247, -0.19573306, ...,  0.1892956 ,\n",
              "         0.57415452, -0.33892492],\n",
              "       [ 0.61334225, -0.0116849 ,  0.12783378, ..., -0.73565089,\n",
              "        -0.28128726,  0.25704299]])"
            ]
          },
          "metadata": {},
          "execution_count": 16
        }
      ]
    },
    {
      "cell_type": "code",
      "source": [
        "# 建立訓練與測試資料集\n",
        "from sklearn.model_selection import train_test_split\n",
        "train_X, test_X, train_y, test_y = train_test_split(X, y, test_size = 0.2, random_state = 42)"
      ],
      "metadata": {
        "id": "1oBm7Rk6YNVd"
      },
      "execution_count": null,
      "outputs": []
    },
    {
      "cell_type": "code",
      "source": [
        "# 建立模型\n",
        "from sklearn.svm import SVC\n",
        "clf = SVC(kernel = 'linear')\n",
        "clf.fit(train_X, train_y)"
      ],
      "metadata": {
        "colab": {
          "base_uri": "https://localhost:8080/",
          "height": 75
        },
        "id": "5EOR6odaYQym",
        "outputId": "68842179-73b8-4ede-e999-a60b0accdd00"
      },
      "execution_count": null,
      "outputs": [
        {
          "output_type": "execute_result",
          "data": {
            "text/plain": [
              "SVC(kernel='linear')"
            ],
            "text/html": [
              "<style>#sk-container-id-1 {color: black;background-color: white;}#sk-container-id-1 pre{padding: 0;}#sk-container-id-1 div.sk-toggleable {background-color: white;}#sk-container-id-1 label.sk-toggleable__label {cursor: pointer;display: block;width: 100%;margin-bottom: 0;padding: 0.3em;box-sizing: border-box;text-align: center;}#sk-container-id-1 label.sk-toggleable__label-arrow:before {content: \"▸\";float: left;margin-right: 0.25em;color: #696969;}#sk-container-id-1 label.sk-toggleable__label-arrow:hover:before {color: black;}#sk-container-id-1 div.sk-estimator:hover label.sk-toggleable__label-arrow:before {color: black;}#sk-container-id-1 div.sk-toggleable__content {max-height: 0;max-width: 0;overflow: hidden;text-align: left;background-color: #f0f8ff;}#sk-container-id-1 div.sk-toggleable__content pre {margin: 0.2em;color: black;border-radius: 0.25em;background-color: #f0f8ff;}#sk-container-id-1 input.sk-toggleable__control:checked~div.sk-toggleable__content {max-height: 200px;max-width: 100%;overflow: auto;}#sk-container-id-1 input.sk-toggleable__control:checked~label.sk-toggleable__label-arrow:before {content: \"▾\";}#sk-container-id-1 div.sk-estimator input.sk-toggleable__control:checked~label.sk-toggleable__label {background-color: #d4ebff;}#sk-container-id-1 div.sk-label input.sk-toggleable__control:checked~label.sk-toggleable__label {background-color: #d4ebff;}#sk-container-id-1 input.sk-hidden--visually {border: 0;clip: rect(1px 1px 1px 1px);clip: rect(1px, 1px, 1px, 1px);height: 1px;margin: -1px;overflow: hidden;padding: 0;position: absolute;width: 1px;}#sk-container-id-1 div.sk-estimator {font-family: monospace;background-color: #f0f8ff;border: 1px dotted black;border-radius: 0.25em;box-sizing: border-box;margin-bottom: 0.5em;}#sk-container-id-1 div.sk-estimator:hover {background-color: #d4ebff;}#sk-container-id-1 div.sk-parallel-item::after {content: \"\";width: 100%;border-bottom: 1px solid gray;flex-grow: 1;}#sk-container-id-1 div.sk-label:hover label.sk-toggleable__label {background-color: #d4ebff;}#sk-container-id-1 div.sk-serial::before {content: \"\";position: absolute;border-left: 1px solid gray;box-sizing: border-box;top: 0;bottom: 0;left: 50%;z-index: 0;}#sk-container-id-1 div.sk-serial {display: flex;flex-direction: column;align-items: center;background-color: white;padding-right: 0.2em;padding-left: 0.2em;position: relative;}#sk-container-id-1 div.sk-item {position: relative;z-index: 1;}#sk-container-id-1 div.sk-parallel {display: flex;align-items: stretch;justify-content: center;background-color: white;position: relative;}#sk-container-id-1 div.sk-item::before, #sk-container-id-1 div.sk-parallel-item::before {content: \"\";position: absolute;border-left: 1px solid gray;box-sizing: border-box;top: 0;bottom: 0;left: 50%;z-index: -1;}#sk-container-id-1 div.sk-parallel-item {display: flex;flex-direction: column;z-index: 1;position: relative;background-color: white;}#sk-container-id-1 div.sk-parallel-item:first-child::after {align-self: flex-end;width: 50%;}#sk-container-id-1 div.sk-parallel-item:last-child::after {align-self: flex-start;width: 50%;}#sk-container-id-1 div.sk-parallel-item:only-child::after {width: 0;}#sk-container-id-1 div.sk-dashed-wrapped {border: 1px dashed gray;margin: 0 0.4em 0.5em 0.4em;box-sizing: border-box;padding-bottom: 0.4em;background-color: white;}#sk-container-id-1 div.sk-label label {font-family: monospace;font-weight: bold;display: inline-block;line-height: 1.2em;}#sk-container-id-1 div.sk-label-container {text-align: center;}#sk-container-id-1 div.sk-container {/* jupyter's `normalize.less` sets `[hidden] { display: none; }` but bootstrap.min.css set `[hidden] { display: none !important; }` so we also need the `!important` here to be able to override the default hidden behavior on the sphinx rendered scikit-learn.org. See: https://github.com/scikit-learn/scikit-learn/issues/21755 */display: inline-block !important;position: relative;}#sk-container-id-1 div.sk-text-repr-fallback {display: none;}</style><div id=\"sk-container-id-1\" class=\"sk-top-container\"><div class=\"sk-text-repr-fallback\"><pre>SVC(kernel=&#x27;linear&#x27;)</pre><b>In a Jupyter environment, please rerun this cell to show the HTML representation or trust the notebook. <br />On GitHub, the HTML representation is unable to render, please try loading this page with nbviewer.org.</b></div><div class=\"sk-container\" hidden><div class=\"sk-item\"><div class=\"sk-estimator sk-toggleable\"><input class=\"sk-toggleable__control sk-hidden--visually\" id=\"sk-estimator-id-1\" type=\"checkbox\" checked><label for=\"sk-estimator-id-1\" class=\"sk-toggleable__label sk-toggleable__label-arrow\">SVC</label><div class=\"sk-toggleable__content\"><pre>SVC(kernel=&#x27;linear&#x27;)</pre></div></div></div></div></div>"
            ]
          },
          "metadata": {},
          "execution_count": 18
        }
      ]
    },
    {
      "cell_type": "code",
      "source": [
        "pred_y = clf.predict(test_X)"
      ],
      "metadata": {
        "id": "QkM-ZjRWYSpe"
      },
      "execution_count": null,
      "outputs": []
    },
    {
      "cell_type": "code",
      "source": [
        "from sklearn.metrics import accuracy_score, confusion_matrix\n",
        "accuracy_score(test_y,pred_y)"
      ],
      "metadata": {
        "colab": {
          "base_uri": "https://localhost:8080/"
        },
        "id": "lV2i5POmYUfb",
        "outputId": "c95645df-725a-4763-f36b-43a799b725eb"
      },
      "execution_count": null,
      "outputs": [
        {
          "output_type": "execute_result",
          "data": {
            "text/plain": [
              "0.7564766839378239"
            ]
          },
          "metadata": {},
          "execution_count": 20
        }
      ]
    },
    {
      "cell_type": "code",
      "source": [
        "confusion_matrix(test_y,pred_y)"
      ],
      "metadata": {
        "colab": {
          "base_uri": "https://localhost:8080/"
        },
        "id": "KkTqdW8cYWUu",
        "outputId": "67aa57a8-e5db-4074-f5a3-950bf616e38f"
      },
      "execution_count": null,
      "outputs": [
        {
          "output_type": "execute_result",
          "data": {
            "text/plain": [
              "array([[54, 26],\n",
              "       [21, 92]])"
            ]
          },
          "metadata": {},
          "execution_count": 21
        }
      ]
    },
    {
      "cell_type": "code",
      "source": [],
      "metadata": {
        "id": "bia0xHS5YY4g"
      },
      "execution_count": null,
      "outputs": []
    }
  ]
}